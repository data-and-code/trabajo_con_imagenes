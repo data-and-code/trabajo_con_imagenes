{
 "cells": [
  {
   "cell_type": "markdown",
   "id": "deluxe-richards",
   "metadata": {},
   "source": [
    "# Trabajo con imágenes\n",
    "\n",
    "Por:\n",
    "\n",
    "* Fernando Gómez Perera - 160300129@ucaribe.edu.mx\n",
    "* Ricardo Vargas Kumul- 170300227@ucaribe.edu.mx\n",
    "* Calvin López Álvarez - 170300226@ucaribe.edu.mx"
   ]
  },
  {
   "cell_type": "code",
   "execution_count": 1,
   "id": "micro-dress",
   "metadata": {},
   "outputs": [],
   "source": [
    "# Bibliotecas a usar\n",
    "import os\n",
    "import re\n",
    "import cv2 as cv\n",
    "import numpy as np\n",
    "import matplotlib.pyplot as plt"
   ]
  },
  {
   "cell_type": "markdown",
   "id": "described-copyright",
   "metadata": {},
   "source": [
    " Se definen algunas funciones auxiliares usadas en distintas partes del proceso."
   ]
  },
  {
   "cell_type": "code",
   "execution_count": 2,
   "id": "thick-affairs",
   "metadata": {},
   "outputs": [],
   "source": [
    "# Leer una imagen para importarla al entorno\n",
    "def read_img(img_path):\n",
    "    with open(img_path, 'r') as img:\n",
    "        img = cv.imread(img_path)\n",
    "        # Regresar la imagen en escala de grises\n",
    "        return cv.cvtColor(img, cv.COLOR_BGR2GRAY)\n",
    "\n",
    "# Obtener una imagen binarizada a partir de otra mostrando una región específica seleccionada\n",
    "def get_region(img, region=('bg', 'max', 'min')):\n",
    "    # Ejecutar un análisis de componentes conectadas para extraer los objetos de la imagen\n",
    "    num_labels, labels, stats, centroids = cv.connectedComponentsWithStats(img, connectivity=4, ltype=cv.CV_16U)\n",
    "    # Índices de todos los objetos encontrados\n",
    "    objects = np.arange(num_labels)\n",
    "    # Extraer el objeto más grande (con área mayor)\n",
    "    max_object = np.argmax(stats[1::, 4]) + 1\n",
    "    # Extraer la imagen binarizada elegida\n",
    "    if region == 'max':\n",
    "        return np.isin(labels, max_object).astype(np.uint8)\n",
    "    elif region == 'min':\n",
    "        # Extraer los objetos más pequeños\n",
    "        min_objects = np.ma.array(objects[1:], mask=False)\n",
    "        min_objects.mask[max_object - 1] = True\n",
    "        min_objects = min_objects.compressed()\n",
    "        return np.isin(labels, min_objects).astype(np.uint8)\n",
    "    elif region == 'bg':\n",
    "        # Extraer el fondo, incluyendo los objetos más pequeños\n",
    "        bg = np.ma.array(objects, mask=False)\n",
    "        bg.mask[max_object] = True\n",
    "        bg = bg.compressed()\n",
    "        return np.isin(labels, bg).astype(np.uint8)"
   ]
  },
  {
   "cell_type": "markdown",
   "id": "natural-accreditation",
   "metadata": {},
   "source": [
    "## Artículos a replicar"
   ]
  },
  {
   "cell_type": "markdown",
   "id": "communist-continent",
   "metadata": {},
   "source": [
    "Los artículos que usamos como referencia para desarrollar los proyectos son los siguientes:\n",
    "\n",
    "* ***An improved GVF snake based breast region extrapolation scheme for digital mammograms*** de *Liu et al*.: El objetivo de este artículo es extrapolar la región del busto usando un esquema mejorado de una serpiente Flujo del Vector Gradiente o *Gradient Vector Flow (GVF) snake*.\n",
    "*  ***A pectoral muscle segmentation algorithm for digital mammograms using Otsu thresholding and multiple regression analysis*** de *Liu et al*: El objetivo de este artículo es segmentar la región del músculo pectoral de la región del pecho combinando el esquema de umbralización de Otsu y el procesamiento matemático morfológico para obtener un borde del músculo pectoral, y usar el análsis de regresión múltiple (*MRA*) para obtener una segmentación precisa del mismo."
   ]
  },
  {
   "cell_type": "markdown",
   "id": "composite-audio",
   "metadata": {},
   "source": [
    "### Primer artículo: Extrapolación de la región del busto usando *GVF Snake*"
   ]
  },
  {
   "cell_type": "markdown",
   "id": "adjusted-crest",
   "metadata": {},
   "source": [
    "Para llevarlo a cabo, tomamos como referencia el primer artículo de *Liu et al*. [[1]](#ref) En este artículo, los autores proponen un esquema mejorado de una serpiente Flujo del Vector Gradiente o *Gradient Vector Flow (GVF) snake* para poder extrapolar toda la región del busto. El esquema o algoritmo que ellos proponen es el siguiente:"
   ]
  },
  {
   "attachments": {
    "3ec4c664-31a2-4799-b52d-b9d778cc3008.jpg": {
     "image/jpeg": "[encoded data removed]"
    }
   },
   "cell_type": "markdown",
   "id": "elder-prescription",
   "metadata": {},
   "source": [
    "![gvf_scheme.jpg](attachment:3ec4c664-31a2-4799-b52d-b9d778cc3008.jpg)"
   ]
  },
  {
   "cell_type": "markdown",
   "id": "distinguished-glucose",
   "metadata": {},
   "source": [
    "1. Reescalar las imágenes originales de las mamografías.\n",
    "2. Aplicar un filtro de mediana a las imágenes reescaladas.\n",
    "\n",
    "En este punto, el proceso se divide en 2 fases:\n",
    "\n",
    "3. Binarizar la imagen reescalada.\n",
    "4. Eliminar los objetos que no son de la región del busto.\n",
    "5. Obtener une extrapolación inicial del borde del busto.\n",
    "\n",
    "Paralelamente:\n",
    "\n",
    "3. Aplicar un filtro de Sobel para obtener el campo gradiente de la mamografía reescalada.\n",
    "4. Ajustar el campo gradiente.\n",
    "5. Calcular el Flujo del Vector Gradiente (*GVF*).\n",
    "\n",
    "En este punto, ambos procesos se unen:\n",
    "\n",
    "6. Aplicar la deformación de la serpiente usando el *GVF* calculado sobre la extrapolación inicial del borde del busto.\n",
    "7. Obtener la extrapolación final del borde del busto."
   ]
  },
  {
   "cell_type": "markdown",
   "id": "graduate-batch",
   "metadata": {},
   "source": [
    "### Segunda artículo: Segmentación del músculo pectoral"
   ]
  },
  {
   "cell_type": "markdown",
   "id": "valid-customs",
   "metadata": {},
   "source": []
  },
  {
   "cell_type": "markdown",
   "id": "great-norwegian",
   "metadata": {},
   "source": [
    "## Tarea 1"
   ]
  },
  {
   "cell_type": "markdown",
   "id": "czech-dayton",
   "metadata": {},
   "source": [
    "### 2. Replica un proceso de limpieza del fondo de la imagen"
   ]
  },
  {
   "cell_type": "markdown",
   "id": "frank-filing",
   "metadata": {},
   "source": [
    "Este proceso sigue la primera ramificación del algoritmo propuesto en el primer artículo.\n",
    "\n",
    "Primero, se importan al entorno todas las imágenes originales."
   ]
  },
  {
   "cell_type": "code",
   "execution_count": 3,
   "id": "precise-fitness",
   "metadata": {},
   "outputs": [
    {
     "data": {
      "image/png": "[encoded data removed]",
      "text/plain": [
       "<Figure size 432x288 with 1 Axes>"
      ]
     },
     "metadata": {
      "needs_background": "light"
     },
     "output_type": "display_data"
    }
   ],
   "source": [
    "# Ruta de las imágenes originales\n",
    "base_dir = '../extdata/all-mias/'\n",
    "all_filenames = os.listdir(base_dir)\n",
    "imgs_filenames = list()\n",
    "\n",
    "# Extraer los archivos que corresponden a las imágenes de las mamografías\n",
    "for filename in all_filenames:\n",
    "    if filename.endswith('.pgm'):\n",
    "        imgs_filenames.append(filename)\n",
    "        \n",
    "# Reordernar las imágenes alfabéticamente/numéricamente\n",
    "imgs_filenames.sort()\n",
    "\n",
    "# Lectura de las imágenes con el parámetro -1 para leer la imagen sin modificar\n",
    "imgs_orig = list(map(lambda img_filename: read_img(base_dir+img_filename), imgs_filenames))\n",
    "\n",
    "# Imagen de ejemplo\n",
    "plt.imshow(imgs_orig[10], cmap='gray')\n",
    "plt.show()"
   ]
  },
  {
   "cell_type": "markdown",
   "id": "veterinary-complex",
   "metadata": {},
   "source": [
    "El artículo tiene varias partes que se contradicen entre sí. Al principio del artículo, los autores mencionan que **primero** se aplica el filtro de mediana sobre las mamografías originales y **después** el reescalamiento de las mamografías. Sin embargo, en el primer diagrama de flujo se puede notar que estos pasos están invertidos.\n",
    "\n",
    "Hemos probado ambas formas, y llegamos a la conclusión que se obtienen mejores resultados si **primero** se aplica el filtro de mediana y **después** el reescalamiento de las imágenes. Así que estos pasos se llevan a cabo en ese orden."
   ]
  },
  {
   "cell_type": "markdown",
   "id": "hawaiian-challenge",
   "metadata": {},
   "source": [
    "#### 2.1 Aplicar el filtro de mediana"
   ]
  },
  {
   "cell_type": "markdown",
   "id": "further-writing",
   "metadata": {},
   "source": [
    "Los autores sugieren aplicar un filtro de mediana de 3 x 3 pixeles para reducir el ruido de la imagen."
   ]
  },
  {
   "cell_type": "code",
   "execution_count": 4,
   "id": "southern-gates",
   "metadata": {},
   "outputs": [
    {
     "data": {
      "image/png": "[encoded data removed]",
      "text/plain": [
       "<Figure size 432x288 with 1 Axes>"
      ]
     },
     "metadata": {
      "needs_background": "light"
     },
     "output_type": "display_data"
    }
   ],
   "source": [
    "# Aplicar un filtro de mediana a cada una de las imágenes\n",
    "imgs_filter = list(map(lambda img_orig: cv.medianBlur(img_orig, 3), imgs_orig))\n",
    "\n",
    "# Imagen de ejemplo\n",
    "plt.imshow(imgs_filter[10], cmap='gray')\n",
    "plt.show()"
   ]
  },
  {
   "cell_type": "markdown",
   "id": "third-match",
   "metadata": {},
   "source": [
    "#### 2.2 Reescalar la imagen"
   ]
  },
  {
   "cell_type": "markdown",
   "id": "sunset-indonesia",
   "metadata": {},
   "source": [
    "Las mamografías se reescalan para hacerlas más pequeñas. Esto permitirá ahorrar tiempo en la ejecución del resto del proceso.\n",
    "\n",
    "Para mantener la calidad de la extrapolación, los autores sugieren reescalar las imágenes originales de 1024 x 1024 pixeles a 256 x 256 pixeles."
   ]
  },
  {
   "cell_type": "code",
   "execution_count": 5,
   "id": "convinced-winning",
   "metadata": {},
   "outputs": [
    {
     "data": {
      "image/png": "[encoded data removed]",
      "text/plain": [
       "<Figure size 432x288 with 1 Axes>"
      ]
     },
     "metadata": {
      "needs_background": "light"
     },
     "output_type": "display_data"
    }
   ],
   "source": [
    "# Reescalar las imágenes para hacerlas más pequeñas (scale down)\n",
    "imgs_scale = list(map(lambda img_filter: cv.resize(img_filter, (256, 256)), imgs_filter))\n",
    "\n",
    "# Imagen de ejemplo\n",
    "plt.imshow(imgs_scale[10], cmap='gray')\n",
    "plt.show()"
   ]
  },
  {
   "cell_type": "markdown",
   "id": "developed-classroom",
   "metadata": {},
   "source": [
    "#### 2.3 Binarización de las imágenes"
   ]
  },
  {
   "cell_type": "markdown",
   "id": "paperback-gibson",
   "metadata": {},
   "source": [
    "Este paso permite obtener un contorno aproximado. Para ello, los autores proponen obtener un umbrarl $T$, el cual será equivalente al valor medio de gris de la imagen.\n",
    "\n",
    "La fórmula para calcular el umbral $T$ es la siguiente:\n",
    "\n",
    "$$T = 0.2 \\cdot  \\frac{\\sum_{n = 0}^{255} n \\cdot H(n)}{\\sum_{n = 0}^{255} H(n)}$$\n",
    "\n",
    "donde $n$ es el valor del nivel de gris, el cual va de 0 a 255, y $H(n)$ es el número de pixeles con el valor de pixel $n$ dentro de la imagen, el cual se obtiene de su histograma."
   ]
  },
  {
   "cell_type": "markdown",
   "id": "tender-archive",
   "metadata": {},
   "source": [
    "Para binarizarla, se sigue la siguiente fórmula:\n",
    "\n",
    "$$\n",
    "\\text{IB}(x, y)  = \\begin{cases}\n",
    "    1,\\text{ si } I(x,y) \\geq T,\\\\\n",
    "    0, \\text{ de otra forma}.\n",
    "  \\end{cases}\n",
    "$$\n",
    "\n",
    "donde $I(x, y)$ es el valor de intensidad de cada pixel en la imagen."
   ]
  },
  {
   "cell_type": "markdown",
   "id": "acknowledged-dream",
   "metadata": {},
   "source": [
    "De esta forma, la imagen quedará divida en la región de fondo (con valor de pixel 0) y la región de objetos (con valor de pixel 1)."
   ]
  },
  {
   "cell_type": "code",
   "execution_count": 6,
   "id": "increasing-penetration",
   "metadata": {
    "tags": []
   },
   "outputs": [
    {
     "data": {
      "image/png": "[encoded data removed]",
      "text/plain": [
       "<Figure size 432x288 with 1 Axes>"
      ]
     },
     "metadata": {
      "needs_background": "light"
     },
     "output_type": "display_data"
    }
   ],
   "source": [
    "# Obtener del umbral a partir del valor del nivel de gris en la imagen\n",
    "def T(img):\n",
    "    H_n = cv.calcHist([img], [0], None, histSize=[256], ranges=(0, 256), accumulate=False).ravel()\n",
    "    return 0.2 * np.sum(np.arange(0, 256) * H_n) / np.sum(H_n)\n",
    "\n",
    "# Binarizar la imagen\n",
    "def binarization(img):\n",
    "    return np.where(img >= T(img), 1, 0).astype(np.uint8)\n",
    "\n",
    "# Binarización de las imágenes\n",
    "imgs_bin = list(map(lambda img_scale: binarization(img_scale), imgs_scale))\n",
    "\n",
    "# Imagen de ejemplo\n",
    "plt.imshow(imgs_bin[10], cmap='gray')\n",
    "plt.show()"
   ]
  },
  {
   "cell_type": "markdown",
   "id": "hybrid-bobby",
   "metadata": {},
   "source": [
    "#### 2.4 Eliminar los objetos que no son parte de la región del busto."
   ]
  },
  {
   "cell_type": "markdown",
   "id": "knowing-contributor",
   "metadata": {},
   "source": [
    "Este proceso está compuesto de 2 partes:"
   ]
  },
  {
   "cell_type": "markdown",
   "id": "forbidden-integral",
   "metadata": {},
   "source": [
    "##### 2.4.1 Procesamiento morfológico"
   ]
  },
  {
   "cell_type": "markdown",
   "id": "configured-gates",
   "metadata": {},
   "source": [
    "Tomando como base el ejemplo de la imagen binarizada, se puede notar que además de la región del busto, hay pequeñas regiones que no son de interés. Para eliminarlos, los autores proponen en su algoritmo aplicar la operación morfológica de apertura, la cual está compuesta de 2 transformaciones morfológicas:\n",
    "\n",
    "* La **erosión**, la cual, como dice su nombre, erosiona los límites del objeto en primer plano (siempre trata de mantener el primer plano en blanco).\n",
    "* La **dilatación**, que es lo opuesto a la erosión. Esto provoca que aumente la región blanca en la imagen o aumente el tamaño del objeto en primer plano.\n",
    "\n",
    "Para ello, la función toma un kernel que se desliza por la imagen, y modfica el valor de un pixel de acuerdo con los siguientes criterios:\n",
    "\n",
    "* En el caso de la **erosión**, el valor del pixel será de 1 solamente si todos los pixeles bajo el kernel son 1. Sino, se erosiona (se vuelve 0).\n",
    "* En el caso de la **dilatación**, el valor del pixel será de 1 si al menos un pixel bajo el kernel es de 1.\n",
    "\n",
    "Los autores proponen usar un elemento estructurado (kernel) formado por un disco de radio 2 pixeles."
   ]
  },
  {
   "cell_type": "code",
   "execution_count": 7,
   "id": "exposed-frank",
   "metadata": {},
   "outputs": [
    {
     "data": {
      "text/plain": [
       "array([[0, 0, 1, 0, 0],\n",
       "       [0, 1, 1, 1, 0],\n",
       "       [1, 1, 1, 1, 1],\n",
       "       [0, 1, 1, 1, 0],\n",
       "       [0, 0, 1, 0, 0]], dtype=uint8)"
      ]
     },
     "execution_count": 7,
     "metadata": {},
     "output_type": "execute_result"
    }
   ],
   "source": [
    "# Creación del kernel compuesto por un disco de radio 2\n",
    "kernel = cv.getStructuringElement(cv.MORPH_ELLIPSE, (5, 5))\n",
    "kernel[[1, 1, 3, 3], [0, 4, 0, 4]] = 0\n",
    "kernel"
   ]
  },
  {
   "cell_type": "code",
   "execution_count": 8,
   "id": "patent-palmer",
   "metadata": {},
   "outputs": [
    {
     "data": {
      "image/png": "[encoded data removed]",
      "text/plain": [
       "<Figure size 432x288 with 1 Axes>"
      ]
     },
     "metadata": {
      "needs_background": "light"
     },
     "output_type": "display_data"
    }
   ],
   "source": [
    "# Aplicar el procesamiento morfológico de apertura sobre las imágenes binarizadas\n",
    "imgs_mpo = list(map(lambda img_bin: cv.morphologyEx(img_bin, cv.MORPH_OPEN, kernel), imgs_bin))\n",
    "\n",
    "# Imagen de ejemplo\n",
    "plt.imshow(imgs_mpo[10], cmap='gray')\n",
    "plt.show()"
   ]
  },
  {
   "cell_type": "markdown",
   "id": "seasonal-correction",
   "metadata": {},
   "source": [
    "##### 2.4.2 Extracción de la región del busto"
   ]
  },
  {
   "cell_type": "markdown",
   "id": "neural-penalty",
   "metadata": {},
   "source": [
    "Aún después de aplicar el procesamiento morfológico, y como se visualiza en la imagen de ejemplo, quedan todavía elementos que no corresponden al área del busto. Sin embargo, claramente se puede notar que su tamaño es menor en comparación a esta área.\n",
    "\n",
    "Por ello, para eliminar los elementos faltantes, los autores proponen usar las características del objeto busto en la imagen mamográfica para etiquetar los objetos, y después extraer el objeto de mayor tamaño de la imagen binarizada. Y aquellos objetos que no correspondan al área del busto se modifican para volverse parte del fondo en dicha imagen. Finalmente, estos objetos también se modifican en la imagen reducida $I$, estableciendo sus valores de intensidad igual al nivel de gris medio del área que no pertenece al área del busto en ella.\n",
    "\n",
    "Sin embargo, los autores no explican cómo llevaron a cabo este proceso. Por lo que nosotros implementamos un proceso que busca replicar los puntos que ellos mencionan.\n",
    "\n",
    "Este proceso se compone de los siguientes pasos, aplicados a cada mamografía:\n",
    "\n",
    "1. Obtener la región del fondo de la imagen binarizada procesada con la operación morfológica de apertura, que es equivalente a la región que no es del busto.\n",
    "2. Obtener las intensidades de esta región, y calcular su nivel de gris medio\n",
    "3. Modificar las intensidades de los objetos más pequeños detectados en la imagen binarizada original con el valor del nivel de gris medio en la imagen escalada.\n",
    "4. Obtener la región del busto, que resulta ser la región más grande dentro de la imagen binarizada procesada con la operación morfológica de apertura.\n",
    "5. Regresar la imagen escalada limpia y la imagen binarizada limpia."
   ]
  },
  {
   "cell_type": "code",
   "execution_count": 9,
   "id": "cross-balance",
   "metadata": {
    "tags": []
   },
   "outputs": [],
   "source": [
    "# Extraer la región del busto\n",
    "def extract_breast_region(img_scale, img_bin, img_mpo):\n",
    "    # Obtener la región que no pertenece a la región del busto\n",
    "    bg_region = get_region(img_mpo, region='bg')\n",
    "    # Obtener las intensidades de la región que no pertenece a la región del busto\n",
    "    bg_values = np.ma.array(img_scale, mask=False)\n",
    "    bg_values.mask = np.where(bg_region == 1, False, True)\n",
    "    # Calcular el nivel de gris medio de estas áreas\n",
    "    mean_gray_level = np.mean(bg_values)\n",
    "    # Modificar las intensidades en los objetos más pequeños\n",
    "    smaller_objects = get_region(img_mpo, region='bg')\n",
    "    mod_img_scale = np.where(smaller_objects == 1, mean_gray_level, img_scale).astype(np.uint8)\n",
    "    # Obtener la región más grande, que corresponde a la región del busto\n",
    "    breast_region = get_region(img_mpo, region='max')\n",
    "    return mod_img_scale, breast_region"
   ]
  },
  {
   "cell_type": "code",
   "execution_count": 10,
   "id": "contrary-cassette",
   "metadata": {},
   "outputs": [],
   "source": [
    "# Eliminar los objetos que no son parte de la región del busto en las imágenes escaladas\n",
    "imgs_clean = list()\n",
    "imgs_bin_clean = list()\n",
    "\n",
    "for img_scale, img_bin, img_mpo in zip(imgs_scale, imgs_bin, imgs_mpo):\n",
    "    img_clean, img_bin_clean = extract_breast_region(img_scale, img_bin, img_mpo)\n",
    "    imgs_clean.append(img_clean)\n",
    "    imgs_bin_clean.append(img_bin_clean)"
   ]
  },
  {
   "cell_type": "code",
   "execution_count": 11,
   "id": "parallel-elder",
   "metadata": {},
   "outputs": [
    {
     "data": {
      "image/png": "[encoded data removed]",
      "text/plain": [
       "<Figure size 432x288 with 1 Axes>"
      ]
     },
     "metadata": {
      "needs_background": "light"
     },
     "output_type": "display_data"
    }
   ],
   "source": [
    "# Imagen de ejemplo (Imagen escalada limpia)\n",
    "plt.imshow(imgs_clean[10], cmap='gray')\n",
    "plt.show()"
   ]
  },
  {
   "cell_type": "code",
   "execution_count": 12,
   "id": "embedded-photography",
   "metadata": {},
   "outputs": [
    {
     "data": {
      "image/png": "[encoded data removed]",
      "text/plain": [
       "<Figure size 432x288 with 1 Axes>"
      ]
     },
     "metadata": {
      "needs_background": "light"
     },
     "output_type": "display_data"
    }
   ],
   "source": [
    "# Imagen de ejemplo (Imagen binarizada limpia)\n",
    "plt.imshow(imgs_bin_clean[10], cmap='gray')\n",
    "plt.show()"
   ]
  },
  {
   "cell_type": "markdown",
   "id": "sunset-bottle",
   "metadata": {},
   "source": [
    "Finalmente, todas las imágenes limpias se almacenan en el directorio de la aplicación para que puedan usarse dentro de ella."
   ]
  },
  {
   "cell_type": "code",
   "execution_count": 13,
   "id": "fundamental-territory",
   "metadata": {},
   "outputs": [],
   "source": [
    "# Almacenar las mamografías limpias en la carpeta de la aplicación\n",
    "app_dir = '../app/img/'\n",
    "# Obtener los números de imagen en el orden en el que se importaron al entorno\n",
    "find_nums = re.compile('\\d{3}')\n",
    "imgs_nums = list(map(lambda filename: int(find_nums.findall(filename)[0]), imgs_filenames))\n",
    "\n",
    "for img_scale, img_clean, img_bin_clean, img_num in zip(imgs_scale, imgs_clean, imgs_bin_clean, imgs_nums):\n",
    "    cv.imwrite(app_dir + str(img_num) + '_scale.png', img_scale)\n",
    "    cv.imwrite(app_dir + str(img_num) + '_clean.png', img_clean)\n",
    "    cv.imwrite(app_dir + str(img_num) + '_bin_clean.png', np.where(img_bin_clean == 1, 255, 0))"
   ]
  },
  {
   "cell_type": "markdown",
   "id": "structural-wrestling",
   "metadata": {},
   "source": [
    "## Tarea 2"
   ]
  },
  {
   "cell_type": "markdown",
   "id": "later-jacksonville",
   "metadata": {},
   "source": [
    "### 3. Replica un proceso que elimine el músculo pectoral"
   ]
  },
  {
   "cell_type": "markdown",
   "id": "micro-adams",
   "metadata": {},
   "source": [
    "Antes de llevar a cabo el proceso de eliminación del músculo pectoral, es necesario terminar de extraer el contorno de la región del busto siguiendo el diagrama de flujo del punto anterior."
   ]
  },
  {
   "cell_type": "markdown",
   "id": "numeric-saint",
   "metadata": {},
   "source": [
    "#### 3.1 Obtener el contorno final de la región del busto usando *GVF Snake*"
   ]
  },
  {
   "cell_type": "markdown",
   "id": "unexpected-storm",
   "metadata": {},
   "source": [
    "##### 3.1.1 Extraer el contorno inicial de la región del busto"
   ]
  },
  {
   "cell_type": "markdown",
   "id": "wrong-candy",
   "metadata": {},
   "source": [
    "El siguiente paso es extraer el contorno inicial de la región del busto usando la siguiente fórmula:\n",
    "\n",
    "$$\\text{IB}_{\\text{edge}} = \\text{IB}_{\\text{fin}} - \\text{IB}_{\\text{ero}}$$\n",
    "\n",
    "Donde $\\text{IB}_{\\text{fin}}$ es la imagen binarizada limpia obtenida en el paso anterior, e $\\text{IB}_{\\text{ero}}$ es la imagen resultante de aplicar la operación de erosión morfológica sobre  $\\text{IB}_{\\text{fin}}$."
   ]
  },
  {
   "cell_type": "code",
   "execution_count": 14,
   "id": "incorporated-demonstration",
   "metadata": {},
   "outputs": [
    {
     "data": {
      "image/png": "[encoded data removed]",
      "text/plain": [
       "<Figure size 432x288 with 1 Axes>"
      ]
     },
     "metadata": {
      "needs_background": "light"
     },
     "output_type": "display_data"
    }
   ],
   "source": [
    "# Extrapolación inicial del borde de la región del busto\n",
    "def extract_initial_breast_border(img_bin_clean, erode_iterations=1):\n",
    "    return img_bin_clean - cv.erode(img_bin_clean, kernel, iterations=erode_iterations)\n",
    "\n",
    "# Obtener la extrapolación inicial del borde de la región del busto de las imágenes binarizadas limpias\n",
    "imgs_edges = list(map(lambda img_bin_clean: extract_initial_breast_border(img_bin_clean, erode_iterations=1), imgs_bin_clean))\n",
    "\n",
    "# Imagen de ejemplo\n",
    "plt.imshow(imgs_edges[10], cmap='gray')\n",
    "plt.show()"
   ]
  },
  {
   "cell_type": "markdown",
   "id": "electronic-ballet",
   "metadata": {},
   "source": [
    "#####  3.1.2 Cálculo del gradiente usando el filtro de Sobel"
   ]
  },
  {
   "cell_type": "markdown",
   "id": "behavioral-thickness",
   "metadata": {},
   "source": [
    "Para poder aplicar el *GVF Snake*, primero es necesario obtener el gradiente de los pixeles de cada imagen limpia usando el filtro de Sobel.\n",
    "\n",
    "El filtro de Sobel sigue la fórmula:\n",
    "\n",
    "$$G(x, y) = |G_x(x, y)| + |G_y(x, y)|$$\n",
    "\n",
    "donde $G_x(x, y)$ y $G_y(x, y)$ indican los cambios en la componente horizontal y vertical del pixel en la posición $(x, y) $ de cada imagen."
   ]
  },
  {
   "cell_type": "code",
   "execution_count": 109,
   "id": "according-charleston",
   "metadata": {},
   "outputs": [
    {
     "data": {
      "image/png": "[encoded data removed]",
      "text/plain": [
       "<Figure size 432x288 with 1 Axes>"
      ]
     },
     "metadata": {
      "needs_background": "light"
     },
     "output_type": "display_data"
    }
   ],
   "source": [
    "# Calcular el gradiente de los pixeles de una imagen usando el filtro de Sobel\n",
    "def Sobel_filter(img):\n",
    "    # Cálculo de los gradientes de cada componente\n",
    "    grad_x = cv.Sobel(img, cv.CV_64F, dx=1, dy=0)\n",
    "    grad_y = cv.Sobel(img, cv.CV_64F, dx=0, dy=1)\n",
    "    # Convertir los valores de las componentes a su valor absoluto\n",
    "    abs_grad_x = cv.convertScaleAbs(grad_x)\n",
    "    abs_grad_y = cv.convertScaleAbs(grad_y)\n",
    "    # Calcular el gradiente usando la fórmula del filtro de Sobel\n",
    "    grad = cv.addWeighted(abs_grad_x, 0.5, abs_grad_y, 0.5, 0)\n",
    "    return abs_grad_x, abs_grad_y, grad\n",
    "\n",
    "# Calcular el gradiente de cada imagen y sus componentes\n",
    "imgs_grad_x = list()\n",
    "imgs_grad_y = list()\n",
    "imgs_grad = list()\n",
    "\n",
    "for img_clean in imgs_clean:\n",
    "    grad_x, grad_y, grad = Sobel_filter(img_clean)\n",
    "    imgs_grad_x.append(grad_x)\n",
    "    imgs_grad_y.append(grad_y)\n",
    "    imgs_grad.append(grad)\n",
    "\n",
    "# Imagen de ejemplo\n",
    "plt.imshow(imgs_grad[10], cmap='gray')\n",
    "plt.show()"
   ]
  },
  {
   "cell_type": "code",
   "execution_count": 106,
   "id": "adopted-bride",
   "metadata": {},
   "outputs": [
    {
     "data": {
      "text/plain": [
       "128"
      ]
     },
     "execution_count": 106,
     "metadata": {},
     "output_type": "execute_result"
    }
   ],
   "source": [
    "grad[10].max()"
   ]
  },
  {
   "cell_type": "code",
   "execution_count": 112,
   "id": "imported-montreal",
   "metadata": {},
   "outputs": [
    {
     "data": {
      "image/png": "[encoded data removed]",
      "text/plain": [
       "<Figure size 432x288 with 2 Axes>"
      ]
     },
     "metadata": {
      "needs_background": "light"
     },
     "output_type": "display_data"
    }
   ],
   "source": [
    "plt.subplot(121)\n",
    "plt.imshow(imgs_grad_x[10], cmap='gray')\n",
    "plt.subplot(122)\n",
    "plt.imshow(imgs_grad_y[10], cmap='gray')\n",
    "plt.show()"
   ]
  },
  {
   "cell_type": "markdown",
   "id": "southwest-ottawa",
   "metadata": {},
   "source": [
    "#####  3.1.2 Ajuste del gradiente"
   ]
  },
  {
   "cell_type": "markdown",
   "id": "touched-southeast",
   "metadata": {},
   "source": [
    "Los autores proponen una operación de ajuste sobre el gradiente obtenido en el paso anterior, pues mencionan que aplicar *GVF Snake* directamente sobre el gradiente podría tener como resultado un borde de la región del busto malo. La fórmula que ellos proponen es la siguiente:\n",
    "\n",
    "$$G_\\text{adjust}(x, y) = w_0 \\cdot \\frac{G(x, y) - G_\\text{min}}{G_\\text{max} - G_\\text{min}} + w_1 \\cdot \\frac{T - I(x, y)}{255}$$"
   ]
  },
  {
   "cell_type": "markdown",
   "id": "passing-coalition",
   "metadata": {},
   "source": [
    "Donde:\n",
    "* $w_0$ y $w_1$ son pesos asignados por el usuario, los cuales toman los valores $0 \\leq w_0 \\leq 1$ y $w_1 = 1 - w_0$ (los autores mencionan que $w_0  = 0.63$ y que este dato es experimental).\n",
    "* $G_\\text{max}$ y $G_\\text{min}$ son el valor máximo y mínimo de la magnitud del campo gradiente $G$, respectivamente.\n",
    "* $T$ es el umbral obtenido el paso 2.3.\n",
    "* $I(x, y)$ es la imagen limpia."
   ]
  },
  {
   "cell_type": "markdown",
   "id": "painful-argument",
   "metadata": {},
   "source": [
    "Según los autores, esta operación debería tener como resultado una imagen donde cada pixel adquiere un valor entre 0 y 1, y que esto debería ayudar a que el borde del busto se acerque más al borde real, pues esta operación disminuye el gradiente relativo de la región clara y aumenta el gradiente relativo de la región oscura.\n",
    "\n",
    "Sin embargo, al replicar esta operación, nosotros obtuvimos valores negativos, los cuales no se ajustan a lo que mencionan los autores, y afectan fuertemente los resultados obtenido más adelante. Un ejemplo se muestra a continuación:"
   ]
  },
  {
   "cell_type": "code",
   "execution_count": 120,
   "id": "plain-wrist",
   "metadata": {},
   "outputs": [
    {
     "data": {
      "image/png": "[encoded data removed]",
      "text/plain": [
       "<Figure size 432x288 with 1 Axes>"
      ]
     },
     "metadata": {
      "needs_background": "light"
     },
     "output_type": "display_data"
    },
    {
     "data": {
      "text/plain": [
       "array([ 0.00516818,  0.00516818,  0.00516818,  0.00516818,  0.00516818,\n",
       "        0.00516818,  0.00516818,  0.00516818,  0.00516818,  0.00516818,\n",
       "        0.00516818,  0.00516818,  0.00516818,  0.00516818,  0.00516818,\n",
       "        0.00516818,  0.00516818,  0.00516818,  0.00516818,  0.00516818,\n",
       "        0.00516818,  0.00516818,  0.00516818,  0.00516818,  0.00516818,\n",
       "        0.00516818,  0.00516818,  0.00516818,  0.00516818,  0.00516818,\n",
       "        0.00516818,  0.00516818,  0.00516818,  0.00516818,  0.00516818,\n",
       "        0.00516818,  0.00516818,  0.00516818,  0.00516818,  0.00516818,\n",
       "        0.00516818,  0.00516818,  0.00516818,  0.00516818,  0.00516818,\n",
       "        0.00516818,  0.00516818,  0.00516818,  0.00516818,  0.00516818,\n",
       "        0.00516818,  0.00516818,  0.00516818,  0.00516818,  0.00516818,\n",
       "        0.00516818,  0.00516818,  0.00516818,  0.00516818,  0.00516818,\n",
       "        0.00516818,  0.00516818,  0.00516818,  5.10282443,  5.10282443,\n",
       "        0.04499362,  0.04499362,  0.04499362,  0.04499362,  0.04499362,\n",
       "        0.12467501,  0.16446994,  0.04499362,  0.08481906,  0.12467501,\n",
       "        0.20426486,  0.24418185,  0.20426486,  0.16446994,  0.04499362,\n",
       "        0.04499362,  0.08481906,  0.08481906,  0.28397677,  0.48319552,\n",
       "        0.36381076,  0.24418185,  0.24418185,  0.08481906,  0.24418185,\n",
       "        0.56278537,  0.52323459,  0.40336154,  0.52323459,  0.60282443,\n",
       "        0.32377169,  0.20426486,  0.4434006 ,  0.56278537,  0.32377169,\n",
       "        0.16446994,  0.12467501,  0.24418185,  0.24418185,  0.12467501,\n",
       "        0.40336154,  0.48319552,  0.04499362,  0.08481906,  0.56278537,\n",
       "        0.88163302,  0.4434006 ,  0.20426486,  0.48319552,  0.36381076,\n",
       "        0.24418185,  0.56278537,  0.52323459,  0.48319552,  0.56278537,\n",
       "        0.9211838 ,  0.95541894,  0.4361457 ,  0.79139803,  1.02824217,\n",
       "        1.10008883,  1.25201361,  1.08557902,  1.0797751 ,  1.02957918,\n",
       "        0.98471276,  0.93886977,  0.93451683,  0.96730099,  0.96004609,\n",
       "        0.83122302,  0.66623941,  0.68837843,  0.64302372,  0.43800105,\n",
       "        0.31136139,  0.2274186 ,  0.13887873,  0.15981091,  0.25912609,\n",
       "        0.09970226,  0.0968003 ,  0.14239915,  0.06135832,  0.01418643,\n",
       "       -0.06975636, -0.02996144, -0.11976918, -0.1610456 , -0.04302026,\n",
       "        0.87142231,  0.75373267, -0.21392986, -0.20957692, -0.21247888,\n",
       "       -0.21973378, -0.21973378, -0.21973378, -0.21392986, -0.21683182,\n",
       "       -0.22118476, -0.22118476, -0.21973378, -0.22118476, -0.2255377 ,\n",
       "       -0.22408672, -0.22408672, -0.22118476, -0.22263574, -0.22843966,\n",
       "       -0.22843966, -0.24875339, -0.26036123, -0.27196908, -0.27632202,\n",
       "       -0.27922398, -0.28212594, -0.28792986, -0.28938084, -0.28792986,\n",
       "       -0.29083182, -0.29663574, -0.2995377 , -0.30098868, -0.30098868,\n",
       "       -0.2995377 , -0.30243966, -0.2995377 , -0.30389064, -0.30098868,\n",
       "       -0.30243966, -0.30098868, -0.30098868, -0.30389064, -0.30534163,\n",
       "       -0.30389064, -0.30679261, -0.30824359, -0.30824359, -0.30824359,\n",
       "       -0.30824359, -0.30969457, -0.30824359, -0.30824359, -0.04126319,\n",
       "        0.00516818,  0.00516818,  0.00516818,  0.00516818,  0.00516818,\n",
       "        0.00516818,  0.00516818,  0.00516818,  0.00516818,  0.00516818,\n",
       "        0.00516818,  0.00516818,  0.00516818,  0.00516818,  0.00516818,\n",
       "        0.00516818,  0.00516818,  0.00516818,  0.00516818,  0.00516818,\n",
       "        0.00516818,  0.00516818,  0.00516818,  0.00516818,  0.00516818,\n",
       "        0.00516818,  0.00516818,  0.00516818,  0.00516818,  0.00516818,\n",
       "        0.00516818,  0.00516818,  0.00516818,  0.00516818,  0.00516818,\n",
       "        0.00516818,  0.00516818,  0.00516818,  0.00516818,  0.00516818,\n",
       "        0.00516818,  0.00516818,  0.00516818,  0.00516818,  0.00516818,\n",
       "        0.00516818])"
      ]
     },
     "execution_count": 120,
     "metadata": {},
     "output_type": "execute_result"
    }
   ],
   "source": [
    "# Ajuste del gradiente sobre una imagen de muestra\n",
    "test_img = imgs_clean[10].copy()\n",
    "w0 = 0.63\n",
    "w1 = 1 - w0\n",
    "grad_magn = np.sqrt(np.power(grad_x, 2) + np.power(grad_y, 2))\n",
    "\n",
    "grad_adjust = w0 * ((grad - np.min(grad_magn)) / (np.max(grad_magn) - np.min(grad_magn))) + w1 * ((T(test_img) - test_img) / 255)\n",
    "\n",
    "# Valor mínimo obtenido de esta operación\n",
    "plt.imshow(grad_adjust, cmap='gray')\n",
    "plt.show()\n",
    "grad_adjust[0]"
   ]
  },
  {
   "cell_type": "markdown",
   "id": "close-citizen",
   "metadata": {},
   "source": [
    "Como los autores no mencionan nada sobre cómo manejar estos valores negativos, decidimos usar el gradiente obtenido del filtro de Sobel para aplicar el *GVF Snake*."
   ]
  },
  {
   "cell_type": "markdown",
   "id": "collaborative-reservation",
   "metadata": {},
   "source": [
    "#####  3.1.3 Aplicar *GVF Snake*"
   ]
  },
  {
   "cell_type": "markdown",
   "id": "classified-county",
   "metadata": {},
   "source": [
    "Primero resulta conveniente explicar un poco el concepto de *serpiente* en este contexto."
   ]
  },
  {
   "cell_type": "markdown",
   "id": "finnish-burst",
   "metadata": {},
   "source": [
    "###### Serpientes clásicas en la segmentación de imágenes"
   ]
  },
  {
   "cell_type": "markdown",
   "id": "sacred-difficulty",
   "metadata": {},
   "source": [
    "Llamadas también como *modelo activo del contorno*, permite obtener una curva deformable en el dominio espacial de la imagen minimizando una función de energía. La forma de la serpiente es modificada por las fuerzas internas que intentan mantener la suavidad de la forma de la serpiente, y también es modificada por las fuerzas externas que atraen a la serpiente hacia las característica destacadas de la imagen.\n",
    "\n",
    "Este modelo tiene 2 incovenientes:\n",
    "\n",
    "1. La serpiente inicial debe estar bastante cerca del límite verdadero.\n",
    "2. El contorno activo no puede deformarse fácilmente en puntos de contorno cóncavos."
   ]
  },
  {
   "cell_type": "markdown",
   "id": "retired-corruption",
   "metadata": {},
   "source": [
    "###### Serpiente *GVF*"
   ]
  },
  {
   "cell_type": "markdown",
   "id": "pleasant-nation",
   "metadata": {},
   "source": [
    "Es una mejora del modelo clásico de serpíente., con el objetivo de obtener un mejor rendimiento en la segmentación de imágenes.\n",
    "\n",
    "La idea detrás de este modelo es agrandar el rango de influencia de cada fuerza externa creando un campo del flujo del vector gradientepara sustituir el cambo de fuerzas externas de la serpiente clásica.\n",
    "\n",
    "Este modelo mejora el rango restringido de captura y la débil convergencia de la serpiente clásica. Pero aún depende de la distribución del gradiente de la imagen."
   ]
  },
  {
   "cell_type": "markdown",
   "id": "brave-lincoln",
   "metadata": {},
   "source": [
    "La función de energía usada en el modelo del *GVF snake* es la siguiente:\n",
    "\n",
    "$$\\varepsilon = \\int \\int \\mu (u_x^2 + u_y^2 + v_x^2 + v_y^2) + |\\nabla f|^2 |V -  \\nabla f|^2 dx dy$$"
   ]
  },
  {
   "cell_type": "markdown",
   "id": "architectural-harvest",
   "metadata": {
    "tags": []
   },
   "source": [
    "Donde:\n",
    "\n",
    "* $\\mu$ es un parámetro de regularización.\n",
    "* $f(x, y)$ es un mapa de contornos.\n",
    "* V es el campo del flujo del vector gradiente (*GVF*) tal que $V(x, y) = (u(x, y), v(x, y))$, el cual minimiza la función de energía."
   ]
  },
  {
   "cell_type": "markdown",
   "id": "aerial-remove",
   "metadata": {},
   "source": [
    "El campo GVF se puede obtener resolviendo las siguientes ecuaciones de Euler-Lagrange:\n",
    "\n",
    "$$\\mu \\nabla^2 u - (u - f_x)(f_x^2 + f_y^2) = 0$$\n",
    "\n",
    "$$\\mu \\nabla^2 v -  (v - f_y)(f_x^2 + f_y^2) = 0$$\n",
    "\n",
    "donde $\\nabla^2$ es el operador Laplaciano."
   ]
  },
  {
   "cell_type": "markdown",
   "id": "looking-duration",
   "metadata": {},
   "source": [
    "Las ecuaciones anteriores se pueden resolver tratando $u$ y $v$ como funciones del tiempo:\n",
    "\n",
    "$$u_t(x, y, t) = \\mu \\nabla^2 u(x, y, t)  - (u(x, y, t) - f_x(x, y) )(f_x(x, y) ^2 + f_y(x, y) ^2)$$\n",
    "\n",
    "$$v_t(x, y, t) = \\mu \\nabla^2 v(x, y, t)  -  (v(x, y, t) - f_y(x, y) )(f_x(x, y) ^2 + f_y(x, y) ^2)$$"
   ]
  },
  {
   "cell_type": "markdown",
   "id": "upper-bleeding",
   "metadata": {},
   "source": [
    "Finalmente, "
   ]
  },
  {
   "cell_type": "markdown",
   "id": "velvet-particle",
   "metadata": {},
   "source": [
    "###### Modelo propuesto de la serpiente GVF"
   ]
  },
  {
   "cell_type": "markdown",
   "id": "committed-wagner",
   "metadata": {},
   "source": []
  },
  {
   "cell_type": "code",
   "execution_count": null,
   "id": "ruled-tampa",
   "metadata": {},
   "outputs": [],
   "source": [
    "# Operación del GVF Snake para obtener la región del busto\n",
    "def gvf_snake(grad_x, grad_y, img_edge, )"
   ]
  },
  {
   "cell_type": "code",
   "execution_count": 47,
   "id": "whole-stephen",
   "metadata": {},
   "outputs": [],
   "source": [
    "fx = cv.Sobel(grad, cv.CV_64F, dx=1, dy=0)\n",
    "fy = cv.Sobel(grad, cv.CV_64F, dx=0, dy=1)\n",
    "\n",
    "u = fx.copy()\n",
    "v = fy.copy()\n",
    "\n",
    "lamb = 0.1"
   ]
  },
  {
   "cell_type": "code",
   "execution_count": 48,
   "id": "utility-poland",
   "metadata": {},
   "outputs": [
    {
     "data": {
      "image/png": "[encoded data removed]",
      "text/plain": [
       "<Figure size 432x288 with 1 Axes>"
      ]
     },
     "metadata": {
      "needs_background": "light"
     },
     "output_type": "display_data"
    }
   ],
   "source": [
    "for i in range(5):\n",
    "    u = lamb * cv.Laplacian(u, cv.CV_64F) - (u - fx) * (fx*+2 + fy**2)\n",
    "\n",
    "for i in range(5):\n",
    "    v = lamb * cv.Laplacian(v, cv.CV_64F) - (v - fy) * (fx*+2 + fy**2)\n",
    "    \n",
    "plt.imshow(u, cmap='gray')\n",
    "plt.show()"
   ]
  },
  {
   "cell_type": "code",
   "execution_count": null,
   "id": "different-senate",
   "metadata": {},
   "outputs": [],
   "source": [
    "plt.imshow(v, cmap='gray')\n",
    "plt.show()"
   ]
  },
  {
   "cell_type": "code",
   "execution_count": null,
   "id": "streaming-pension",
   "metadata": {},
   "outputs": [],
   "source": [
    "np.all(V == imgs_edges[10])"
   ]
  },
  {
   "cell_type": "code",
   "execution_count": 43,
   "id": "flush-graph",
   "metadata": {
    "tags": []
   },
   "outputs": [
    {
     "data": {
      "image/png": "[encoded data removed]",
      "text/plain": [
       "<Figure size 432x288 with 1 Axes>"
      ]
     },
     "metadata": {
      "needs_background": "light"
     },
     "output_type": "display_data"
    }
   ],
   "source": [
    "V = cv.addWeighted(u, 1, v, 1, 0)\n",
    "\n",
    "plt.imshow(V, cmap='gray')\n",
    "plt.show()"
   ]
  },
  {
   "cell_type": "code",
   "execution_count": 44,
   "id": "alternate-advantage",
   "metadata": {},
   "outputs": [
    {
     "data": {
      "text/plain": [
       "<matplotlib.image.AxesImage at 0x7f7b8aa6ac88>"
      ]
     },
     "execution_count": 44,
     "metadata": {},
     "output_type": "execute_result"
    },
    {
     "data": {
      "image/png": "[encoded data removed]",
      "text/plain": [
       "<Figure size 432x288 with 1 Axes>"
      ]
     },
     "metadata": {
      "needs_background": "light"
     },
     "output_type": "display_data"
    }
   ],
   "source": [
    "plt.imshow(imgs_edges[10])"
   ]
  },
  {
   "cell_type": "code",
   "execution_count": 45,
   "id": "biological-edward",
   "metadata": {},
   "outputs": [],
   "source": [
    "X_s = imgs_edges[10].copy()\n",
    "alpha = 0.001\n",
    "beta = 0.001\n",
    "\n",
    "for i in range(5):\n",
    "    X_s_2 = cv.Laplacian(X_s, cv.CV_64F)\n",
    "    X_s_4 = cv.Laplacian(X_s_2, cv.CV_64F)\n",
    "    X_s = alpha * X_s_2 - beta * X_s_4 + V"
   ]
  },
  {
   "cell_type": "code",
   "execution_count": 46,
   "id": "amber-harrison",
   "metadata": {},
   "outputs": [
    {
     "data": {
      "image/png": "[encoded data removed]",
      "text/plain": [
       "<Figure size 432x288 with 1 Axes>"
      ]
     },
     "metadata": {
      "needs_background": "light"
     },
     "output_type": "display_data"
    }
   ],
   "source": [
    "plt.imshow(X_s, cmap='gray')\n",
    "plt.show()"
   ]
  },
  {
   "cell_type": "code",
   "execution_count": null,
   "id": "tamil-reset",
   "metadata": {},
   "outputs": [],
   "source": [
    "X = clean_imgs[10] + X_s\n",
    "\n",
    "plt.imshow(X, cmap='gray')\n",
    "plt.show()"
   ]
  },
  {
   "cell_type": "markdown",
   "id": "enclosed-porcelain",
   "metadata": {},
   "source": []
  },
  {
   "cell_type": "code",
   "execution_count": null,
   "id": "operational-runner",
   "metadata": {},
   "outputs": [],
   "source": [
    "grad = cv.addWeighted(u, 0.5, v, 0.5, 0)\n",
    "\n",
    "plt.imshow(grad, cmap='gray')\n",
    "plt.show()"
   ]
  },
  {
   "cell_type": "code",
   "execution_count": null,
   "id": "other-scroll",
   "metadata": {},
   "outputs": [],
   "source": [
    "x = img_test\n",
    "alpha = 0.1\n",
    "beta = 0.1\n",
    "\n",
    "for i in range(20):\n",
    "    x_1 = cv.Sobel(img_edges, cv.CV_16S, 1, 0, ksize=3, scale=1, delta=0, borderType=cv.BORDER_DEFAULT)\n",
    "    y_1 = cv.Sobel(img_edges, cv.CV_16S, 0, 1, ksize=3, scale=1, delta=0, borderType=cv.BORDER_DEFAULT)\n",
    "    \n",
    "    x_1 = cv.convertScaleAbs(x_1)\n",
    "    y_1 = cv.convertScaleAbs(y_1)\n",
    "    \n",
    "    grad = cv.addWeighted(x_1, 1, y_1, 1, 0)\n",
    "    grad_2 = cv.Laplacian(img_edges, cv.CV_16S, 3)\n",
    "    grad_2 = cv.convertScaleAbs(grad_2)\n",
    "    \n",
    "    x = alpha * grad_2 - beta * grad_2+grad\n",
    "    \n",
    "plt.imshow(x, cmap='gray')\n",
    "plt.show()"
   ]
  },
  {
   "cell_type": "code",
   "execution_count": null,
   "id": "helpful-authority",
   "metadata": {},
   "outputs": [],
   "source": [
    "X = clean_imgs[10] + x\n",
    "\n",
    "plt.imshow(X, cmap='gray')\n",
    "plt.show()"
   ]
  },
  {
   "cell_type": "code",
   "execution_count": null,
   "id": "lightweight-volleyball",
   "metadata": {},
   "outputs": [],
   "source": [
    "x"
   ]
  },
  {
   "cell_type": "code",
   "execution_count": null,
   "id": "soviet-microwave",
   "metadata": {},
   "outputs": [],
   "source": [
    "?cv.threshold"
   ]
  },
  {
   "cell_type": "code",
   "execution_count": null,
   "id": "vocal-compact",
   "metadata": {},
   "outputs": [],
   "source": [
    "bin_x = cv.threshold(X.astype(np.uint8),0,255,cv.THRESH_BINARY+cv.THRESH_OTSU)[1]\n",
    "\n",
    "plt.imshow(bin_x, cmap='gray')\n",
    "plt.show()"
   ]
  },
  {
   "cell_type": "code",
   "execution_count": null,
   "id": "premium-freeware",
   "metadata": {},
   "outputs": [],
   "source": [
    "x_mpo = cv.morphologyEx(bin_x, cv.MORPH_OPEN, kernel)\n",
    "\n",
    "# Imagen de ejemplo\n",
    "plt.imshow(x_mpo, cmap='gray')\n",
    "plt.show()"
   ]
  },
  {
   "cell_type": "code",
   "execution_count": null,
   "id": "bulgarian-study",
   "metadata": {},
   "outputs": [],
   "source": [
    "bin_x = cv.threshold(x_mpo,0,255,cv.THRESH_BINARY+cv.THRESH_OTSU)[1]\n",
    "x_mpo = cv.morphologyEx(bin_x, cv.MORPH_OPEN, kernel)\n",
    "\n",
    "plt.imshow(x_mpo, cmap='gray')\n",
    "plt.show()"
   ]
  },
  {
   "cell_type": "code",
   "execution_count": null,
   "id": "passing-seattle",
   "metadata": {},
   "outputs": [],
   "source": [
    "bin_x = cv.threshold(x_mpo,0,255,cv.THRESH_BINARY+cv.THRESH_OTSU)[1]\n",
    "x_mpo = cv.morphologyEx(bin_x, cv.MORPH_OPEN, kernel)\n",
    "\n",
    "plt.imshow(x_mpo, cmap='gray')\n",
    "plt.show()"
   ]
  },
  {
   "cell_type": "code",
   "execution_count": null,
   "id": "english-reality",
   "metadata": {},
   "outputs": [],
   "source": [
    "bin_x"
   ]
  },
  {
   "cell_type": "code",
   "execution_count": 15,
   "id": "packed-integrity",
   "metadata": {},
   "outputs": [
    {
     "data": {
      "text/plain": [
       "\u001b[0;31mDocstring:\u001b[0m\n",
       "Sobel(src, ddepth, dx, dy[, dst[, ksize[, scale[, delta[, borderType]]]]]) -> dst\n",
       ".   @brief Calculates the first, second, third, or mixed image derivatives using an extended Sobel operator.\n",
       ".   \n",
       ".   In all cases except one, the \\f$\\texttt{ksize} \\times \\texttt{ksize}\\f$ separable kernel is used to\n",
       ".   calculate the derivative. When \\f$\\texttt{ksize = 1}\\f$, the \\f$3 \\times 1\\f$ or \\f$1 \\times 3\\f$\n",
       ".   kernel is used (that is, no Gaussian smoothing is done). `ksize = 1` can only be used for the first\n",
       ".   or the second x- or y- derivatives.\n",
       ".   \n",
       ".   There is also the special value `ksize = #CV_SCHARR (-1)` that corresponds to the \\f$3\\times3\\f$ Scharr\n",
       ".   filter that may give more accurate results than the \\f$3\\times3\\f$ Sobel. The Scharr aperture is\n",
       ".   \n",
       ".   \\f[\\vecthreethree{-3}{0}{3}{-10}{0}{10}{-3}{0}{3}\\f]\n",
       ".   \n",
       ".   for the x-derivative, or transposed for the y-derivative.\n",
       ".   \n",
       ".   The function calculates an image derivative by convolving the image with the appropriate kernel:\n",
       ".   \n",
       ".   \\f[\\texttt{dst} =  \\frac{\\partial^{xorder+yorder} \\texttt{src}}{\\partial x^{xorder} \\partial y^{yorder}}\\f]\n",
       ".   \n",
       ".   The Sobel operators combine Gaussian smoothing and differentiation, so the result is more or less\n",
       ".   resistant to the noise. Most often, the function is called with ( xorder = 1, yorder = 0, ksize = 3)\n",
       ".   or ( xorder = 0, yorder = 1, ksize = 3) to calculate the first x- or y- image derivative. The first\n",
       ".   case corresponds to a kernel of:\n",
       ".   \n",
       ".   \\f[\\vecthreethree{-1}{0}{1}{-2}{0}{2}{-1}{0}{1}\\f]\n",
       ".   \n",
       ".   The second case corresponds to a kernel of:\n",
       ".   \n",
       ".   \\f[\\vecthreethree{-1}{-2}{-1}{0}{0}{0}{1}{2}{1}\\f]\n",
       ".   \n",
       ".   @param src input image.\n",
       ".   @param dst output image of the same size and the same number of channels as src .\n",
       ".   @param ddepth output image depth, see @ref filter_depths \"combinations\"; in the case of\n",
       ".   8-bit input images it will result in truncated derivatives.\n",
       ".   @param dx order of the derivative x.\n",
       ".   @param dy order of the derivative y.\n",
       ".   @param ksize size of the extended Sobel kernel; it must be 1, 3, 5, or 7.\n",
       ".   @param scale optional scale factor for the computed derivative values; by default, no scaling is\n",
       ".   applied (see #getDerivKernels for details).\n",
       ".   @param delta optional delta value that is added to the results prior to storing them in dst.\n",
       ".   @param borderType pixel extrapolation method, see #BorderTypes\n",
       ".   @sa  Scharr, Laplacian, sepFilter2D, filter2D, GaussianBlur, cartToPolar\n",
       "\u001b[0;31mType:\u001b[0m      builtin_function_or_method\n"
      ]
     },
     "metadata": {},
     "output_type": "display_data"
    }
   ],
   "source": [
    "?cv.Sobel"
   ]
  },
  {
   "cell_type": "markdown",
   "id": "straight-cookie",
   "metadata": {},
   "source": []
  },
  {
   "cell_type": "markdown",
   "id": "continuous-offering",
   "metadata": {},
   "source": []
  },
  {
   "cell_type": "markdown",
   "id": "composed-turkey",
   "metadata": {},
   "source": []
  },
  {
   "cell_type": "code",
   "execution_count": null,
   "id": "velvet-polish",
   "metadata": {},
   "outputs": [],
   "source": [
    "# tamaño de la imagen\n",
    "N = 256 * 256\n",
    "\n",
    "# Sacamos el threshold de la imagen nuevmaente\n",
    "threshold = T(clean_imgs[10])\n",
    "\n",
    "# especificamos que trabajaremos sobre 'l'\n",
    "l = sp.Symbol('l')\n",
    "\n",
    "# valores minimos y maximos de la imagen\n",
    "l_min = np.min(clean_imgs[10])\n",
    "l_max = np.max(clean_imgs[10])\n",
    "\n",
    "n_l = list(clean_img[10].flatten()).count(l)\n",
    "\n",
    "w_1 = (1/N) * sp.integrate(n_l,(l,l_min,threshold))\n",
    "w_2 = w_1 - 1\n",
    "\n",
    "print(w_1)\n",
    "print(w_2)"
   ]
  },
  {
   "cell_type": "markdown",
   "id": "affecting-hayes",
   "metadata": {},
   "source": [
    "1. aplicar la binarizacion anterior con el nuevo threshold de obtenido con otsu\n",
    "2. usar el mismo kernel de radio 2 pero con morphological opening (es una de las 4 transformaciones)\n",
    "3. hacer lo mismo que en el anterior donde al original se le restaba el erosionado para obtener el nuevo"
   ]
  },
  {
   "cell_type": "markdown",
   "id": "improving-queens",
   "metadata": {},
   "source": [
    "## 1"
   ]
  },
  {
   "cell_type": "code",
   "execution_count": null,
   "id": "overhead-designation",
   "metadata": {},
   "outputs": [],
   "source": [
    "# Aplicar un filtro gausiano a cada una de las imágenes\n",
    "imgs_gauss = list(map(lambda clean_imgs: cv.GaussianBlur(clean_imgs, (5, 5), 0), clean_imgs))\n",
    "\n",
    "# Imagen de ejemplo\n",
    "plt.imshow(imgs_gauss[10], cmap='gray')\n",
    "plt.show()"
   ]
  },
  {
   "cell_type": "code",
   "execution_count": null,
   "id": "regulation-detroit",
   "metadata": {},
   "outputs": [],
   "source": [
    "def T_O(img):\n",
    "    val, _ = cv.threshold(img, 0, 255, cv.THRESH_BINARY + cv.THRESH_OTSU,)\n",
    "    return val"
   ]
  },
  {
   "cell_type": "code",
   "execution_count": null,
   "id": "stone-disco",
   "metadata": {},
   "outputs": [],
   "source": [
    "T_O(test_img)"
   ]
  },
  {
   "cell_type": "markdown",
   "id": "norwegian-entertainment",
   "metadata": {},
   "source": []
  },
  {
   "cell_type": "code",
   "execution_count": null,
   "id": "weird-panel",
   "metadata": {},
   "outputs": [],
   "source": [
    "test_img = clean_imgs[4]\n",
    "plt.imshow(test_img, cmap = 'gray')"
   ]
  },
  {
   "cell_type": "code",
   "execution_count": null,
   "id": "incorporated-season",
   "metadata": {},
   "outputs": [],
   "source": [
    "# Binarizar la imagen\n",
    "def binarization_otsu(img):\n",
    "    return np.where(img >= T_O(img), 1, 0).astype(np.uint8)\n",
    "\n",
    "# Binarización de las imágenes\n",
    "#imgs_bin_gauss = list(map(lambda imgs_gauss: binarization_otsu(imgs_gauss), imgs_gauss))\n",
    "otsu_img = cv.threshold(test_img, 0, 255, cv.THRESH_BINARY + cv.THRESH_OTSU)[1]"
   ]
  },
  {
   "cell_type": "code",
   "execution_count": null,
   "id": "proud-wages",
   "metadata": {},
   "outputs": [],
   "source": [
    "img = test_img.copy()\n",
    "thresh, otsu_img = cv.threshold(img, 0, 255, cv.THRESH_BINARY + cv.THRESH_OTSU)\n",
    "\n",
    "for i in range(10):\n",
    "    a = np.where(otsu_img == 1, img, 0).ravel()\n",
    "    print(a[a >= 0])\n",
    "    mean1 = np.mean(np.where(otsu_img == 1, img, 0))\n",
    "    mean2 = np.mean(np.where(otsu_img == 0, img))\n",
    "    plt.imshow(otsu_img, cmap='gray')\n",
    "    plt.show()\n",
    "    tbd_region = np.where(np.logical_and(img > mean1, img < mean2), img, 0)\n",
    "    plt.imshow(tbd_region, cmap='gray')\n",
    "    plt.show()\n",
    "    thres, otsu_img = cv.threshold(tbd_region, 0, 255, cv.THRESH_BINARY + cv.THRESH_OTSU)"
   ]
  },
  {
   "cell_type": "code",
   "execution_count": null,
   "id": "continent-exercise",
   "metadata": {},
   "outputs": [],
   "source": [
    "# Fer's Threshold + imagen\n",
    "#print(T(imgs_gauss[10]))\n",
    "plt.imshow(otsu_img, cmap='gray')\n",
    "plt.show()"
   ]
  },
  {
   "cell_type": "code",
   "execution_count": null,
   "id": "coated-forwarding",
   "metadata": {},
   "outputs": [],
   "source": [
    "# Aplicar el procesamiento morfológico de apertura sobre las imágenes binarizadas\n",
    "#imgs_bin_gauss_mpo = list(map(lambda imgs_bin_gauss: cv.morphologyEx(imgs_bin_gauss, cv.MORPH_OPEN, kernel), imgs_bin_gauss))\n",
    "\n",
    "mpo_img = cv.morphologyEx(otsu_img, cv.MORPH_OPEN, kernel)\n",
    "\n",
    "# Imagen de ejemplo\n",
    "plt.imshow(mpo_img, cmap='gray')\n",
    "plt.show()"
   ]
  },
  {
   "cell_type": "code",
   "execution_count": null,
   "id": "medium-girlfriend",
   "metadata": {},
   "outputs": [],
   "source": [
    "output = cv.connectedComponentsWithStats(mpo_img, connectivity=4, ltype = cv.CV_32S)\n",
    "(numLabels, labels, stats, centroids) = output"
   ]
  },
  {
   "cell_type": "code",
   "execution_count": null,
   "id": "photographic-relations",
   "metadata": {},
   "outputs": [],
   "source": [
    "output"
   ]
  },
  {
   "cell_type": "code",
   "execution_count": null,
   "id": "different-academy",
   "metadata": {
    "tags": []
   },
   "outputs": [],
   "source": [
    "# loop over the number of unique connected component labels\n",
    "for i in range(0, numLabels):\n",
    "\t# if this is the first component then we examine the\n",
    "\t# *background* (typically we would just ignore this\n",
    "\t# component in our loop)\n",
    "\tif i == 0:\n",
    "\t\ttext = \"examining component {}/{} (background)\".format(\n",
    "\t\t\ti + 1, numLabels)\n",
    "\n",
    "\t# otherwise, we are examining an actual connected component\n",
    "\telse:\n",
    "\t\ttext = \"examining component {}/{}\".format( i + 1, numLabels)\n",
    "\n",
    "\t# print a status message update for the current connected\n",
    "\t# component\n",
    "\tprint(\"[INFO] {}\".format(text))\n",
    "\n",
    "\t# extract the connected component statistics and centroid for\n",
    "\t# the current label\n",
    "\tx = stats[i, cv.CC_STAT_LEFT]\n",
    "\ty = stats[i, cv.CC_STAT_TOP]\n",
    "\tw = stats[i, cv.CC_STAT_WIDTH]\n",
    "\th = stats[i, cv.CC_STAT_HEIGHT]\n",
    "\tarea = stats[i, cv.CC_STAT_AREA]\n",
    "\t(cX, cY) = centroids[i]\n",
    "    \n",
    "    # clone our original image (so we can draw on it) and then draw\n",
    "\t# a bounding box surrounding the connected component along with\n",
    "\t# a circle corresponding to the centroid\n",
    "\toutput = otsu_img.copy()\n",
    "\tcv.rectangle(output, (x, y), (x + w, y + h), (0, 255, 0), 3)\n",
    "\tcv.circle(output, (int(cX), int(cY)), 4, (0, 0, 255), -1)\n",
    "    \n",
    "    # construct a mask for the current connected component by\n",
    "\t# finding a pixels in the labels array that have the current\n",
    "\t# connected component ID\n",
    "\tcomponentMask = (labels == i).astype(\"uint8\") * 255\n",
    "\n",
    "\t# show our output image and connected component mask\n",
    "\tplt.imshow(output, cmap='gray')\n",
    "\tplt.show()\n",
    "\tplt.imshow(componentMask, cmap='gray')\n",
    "\tplt.show()"
   ]
  },
  {
   "cell_type": "code",
   "execution_count": null,
   "id": "finite-calculator",
   "metadata": {},
   "outputs": [],
   "source": [
    "mask = np.zeros(otsu_img.shape, dtype=\"uint8\")\n",
    "\n",
    "# loop over the number of unique connected component labels, skipping\n",
    "# over the first label (as label zero is the background)\n",
    "for i in range(1, 2):\n",
    "\t# extract the connected component statistics for the current\n",
    "\t# label\n",
    "\tx = stats[i, cv.CC_STAT_LEFT]\n",
    "\ty = stats[i, cv.CC_STAT_TOP]\n",
    "\tw = stats[i, cv.CC_STAT_WIDTH]\n",
    "\th = stats[i, cv.CC_STAT_HEIGHT]\n",
    "\tarea = stats[i, cv.CC_STAT_AREA]\n",
    "\tprint(x, y, w, h, area)\n",
    "    # construct a mask for the current connected component and\n",
    "\t# then take the bitwise OR with the mask\n",
    "\tprint(\"[INFO] keeping connected component '{}'\".format(i))\n",
    "\tcomponentMask = (labels == i).astype(\"uint8\") * 255\n",
    "\tmask = cv.bitwise_or(mask, componentMask)\n",
    "        \n",
    "\n",
    "plt.imshow(mask, cmap = 'gray')"
   ]
  },
  {
   "cell_type": "code",
   "execution_count": null,
   "id": "earlier-dealer",
   "metadata": {},
   "outputs": [],
   "source": [
    "test_img_2 = np.where(mask != 0, test_img, mask)\n",
    "#test_img_2 = np.where(img_edges == 255, img_edges, test_img_2)"
   ]
  },
  {
   "cell_type": "code",
   "execution_count": null,
   "id": "sharing-marijuana",
   "metadata": {},
   "outputs": [],
   "source": [
    "plt.imshow(test_img_2, cmap='gray')\n",
    "plt.show()"
   ]
  },
  {
   "cell_type": "code",
   "execution_count": null,
   "id": "incoming-encounter",
   "metadata": {},
   "outputs": [],
   "source": []
  },
  {
   "cell_type": "code",
   "execution_count": null,
   "id": "certain-dealer",
   "metadata": {},
   "outputs": [],
   "source": [
    "otsu_img_2 = cv.threshold(test_img_2, 0, 255, type = cv.THRESH_BINARY + cv.THRESH_OTSU)[1]\n",
    "mpo_img_2 = cv.morphologyEx(otsu_img_2, cv.MORPH_OPEN, kernel)\n",
    "\n",
    "plt.imshow(mpo_img_2, cmap='gray')\n",
    "plt.show()"
   ]
  },
  {
   "cell_type": "code",
   "execution_count": null,
   "id": "designed-rugby",
   "metadata": {},
   "outputs": [],
   "source": [
    "?cv.morphologyEx"
   ]
  },
  {
   "cell_type": "code",
   "execution_count": null,
   "id": "guilty-elements",
   "metadata": {},
   "outputs": [],
   "source": [
    "mask = np.zeros(mpo_img_2.shape, dtype=\"uint8\")\n",
    "\n",
    "# loop over the number of unique connected component labels, skipping\n",
    "# over the first label (as label zero is the background)\n",
    "for i in range(1, 2):\n",
    "\t# extract the connected component statistics for the current\n",
    "\t# label\n",
    "\tx = stats[i, cv.CC_STAT_LEFT]\n",
    "\ty = stats[i, cv.CC_STAT_TOP]\n",
    "\tw = stats[i, cv.CC_STAT_WIDTH]\n",
    "\th = stats[i, cv.CC_STAT_HEIGHT]\n",
    "\tarea = stats[i, cv.CC_STAT_AREA]\n",
    "\tprint(x, y, w, h, area)\n",
    "    # construct a mask for the current connected component and\n",
    "\t# then take the bitwise OR with the mask\n",
    "\tprint(\"[INFO] keeping connected component '{}'\".format(i))\n",
    "\tcomponentMask = (labels == i).astype(\"uint8\") * 255\n",
    "\tmask = cv.bitwise_or(mask, componentMask)\n",
    "        \n",
    "\n",
    "plt.imshow(mask, cmap = 'gray')"
   ]
  },
  {
   "cell_type": "code",
   "execution_count": null,
   "id": "ordered-chest",
   "metadata": {},
   "outputs": [],
   "source": [
    "test_img_3 = np.where(mask != 0, test_img_2, mask).astype(np.uint8)\n",
    "\n",
    "plt.imshow(test_img_3, cmap='gray')\n",
    "plt.show()"
   ]
  },
  {
   "cell_type": "code",
   "execution_count": null,
   "id": "cardiovascular-migration",
   "metadata": {},
   "outputs": [],
   "source": [
    "# find normalized_histogram, and its cumulative distribution functio\n",
    "hist = cv.calcHist([test_img_3],[0],None,[256],[0,256])\n",
    "hist_norm = hist.ravel()/hist.max()\n",
    "Q = hist_norm.cumsum()\n",
    "bins = np.arange(256)\n",
    "fn_min = np.inf\n",
    "thresh = -1\n",
    "for i in range(1,256):\n",
    "    p1,p2 = np.hsplit(hist_norm,[i]) # probabilities\n",
    "    q1,q2 = Q[i],Q[255]-Q[i] # cum sum of classes\n",
    "    if q1 == 0:\n",
    "        q1 = 0.00000001\n",
    "    if q2 == 0:\n",
    "        q2 = 0.00000001\n",
    "    b1,b2 = np.hsplit(bins,[i]) # weights\n",
    "    # finding means and variances\n",
    "    m1,m2 = np.sum(p1*b1)/q1, np.sum(p2*b2)/q2\n",
    "    v1,v2 = np.sum(((b1-m1)**2)*p1)/q1,np.sum(((b2-m2)**2)*p2)/q2\n",
    "    # calculates the minimization function\n",
    "    fn = v1*q1 + v2*q2\n",
    "    if fn < fn_min:\n",
    "        fn_min = fn\n",
    "        thresh = i\n",
    "        \n",
    "thresh"
   ]
  },
  {
   "cell_type": "code",
   "execution_count": null,
   "id": "wired-transmission",
   "metadata": {},
   "outputs": [],
   "source": [
    "np.histogram(test_img_3, bins=256, range=(0, 255))"
   ]
  },
  {
   "cell_type": "code",
   "execution_count": null,
   "id": "charitable-promise",
   "metadata": {},
   "outputs": [],
   "source": [
    "cv.threshold(test_img_3, 0, 1, cv.THRESH_BINARY)[1].max()\n",
    "\n",
    "#plt.imshow(cv.threshold(test_img_3, 0, 1, cv.THRESH_BINARY)[1], cmap='gray')"
   ]
  },
  {
   "cell_type": "code",
   "execution_count": null,
   "id": "elementary-product",
   "metadata": {},
   "outputs": [],
   "source": [
    "# Otsu's Threshold + imagen\n",
    "print(T_O(imgs_gauss[10]))\n",
    "plt.imshow(imgs_bin_gauss[10], cmap='gray')\n",
    "plt.show()"
   ]
  },
  {
   "cell_type": "code",
   "execution_count": null,
   "id": "requested-library",
   "metadata": {},
   "outputs": [],
   "source": [
    "plt.imshow(imgs_bin_gauss_mpo[10], cmap='gray')\n",
    "plt.show()"
   ]
  },
  {
   "cell_type": "code",
   "execution_count": null,
   "id": "settled-diagram",
   "metadata": {},
   "outputs": [],
   "source": []
  },
  {
   "cell_type": "markdown",
   "id": "satisfied-kentucky",
   "metadata": {},
   "source": []
  },
  {
   "cell_type": "markdown",
   "id": "endangered-letters",
   "metadata": {},
   "source": []
  },
  {
   "cell_type": "markdown",
   "id": "hundred-advice",
   "metadata": {},
   "source": []
  },
  {
   "cell_type": "markdown",
   "id": "equal-accreditation",
   "metadata": {},
   "source": []
  },
  {
   "cell_type": "markdown",
   "id": "forbidden-mexican",
   "metadata": {},
   "source": [
    "## <a name=\"ref\"></a>  Referencias"
   ]
  },
  {
   "cell_type": "markdown",
   "id": "sublime-approval",
   "metadata": {},
   "source": [
    "Liu, C.-C., Tsai, C.-Y., Tsui, T.-S., & Yu, S.-S. (2012). An improved GVF snake based breast region extrapolation scheme for digital mammograms. Expert Systems with Applications, 39(4), 4505-4510. https://doi.org/10.1016/j.eswa.2011.09.136\n",
    "\n",
    "Liu, C.-C., Tsai, C.-Y., Liu, J., Yu, C.-Y., & Yu, S.-S. (2012). A pectoral muscle segmentation algorithm for digital mammograms using Otsu thresholding and multiple regression analysis. Computers & Mathematics with Applications, 64(5), 1100-1107. https://doi.org/10.1016/j.camwa.2012.03.028\n",
    "\n",
    "OpenCV. (2021, 9 marzo). OpenCV: Morphological Transformations. https://docs.opencv.org/master/d9/d61/tutorial_py_morphological_ops.html"
   ]
  }
 ],
 "metadata": {
  "kernelspec": {
   "display_name": "Python 3",
   "language": "python",
   "name": "python3"
  },
  "language_info": {
   "codemirror_mode": {
    "name": "ipython",
    "version": 3
   },
   "file_extension": ".py",
   "mimetype": "text/x-python",
   "name": "python",
   "nbconvert_exporter": "python",
   "pygments_lexer": "ipython3",
   "version": "3.6.13"
  }
 },
 "nbformat": 4,
 "nbformat_minor": 5
}
