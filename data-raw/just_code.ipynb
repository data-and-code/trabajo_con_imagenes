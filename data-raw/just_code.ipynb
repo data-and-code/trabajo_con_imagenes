{
 "cells": [
  {
   "cell_type": "markdown",
   "id": "795d708e",
   "metadata": {},
   "source": [
    "# Nuevo código"
   ]
  },
  {
   "cell_type": "code",
   "execution_count": 138,
   "id": "35e98586",
   "metadata": {},
   "outputs": [],
   "source": [
    "# Bibliotecas a usar\n",
    "import glob\n",
    "import re\n",
    "import copy\n",
    "import numpy as np\n",
    "import matplotlib.pyplot as plt\n",
    "import pandas as pd\n",
    "import cv2 as cv"
   ]
  },
  {
   "cell_type": "code",
   "execution_count": 5,
   "id": "116d0cdd",
   "metadata": {},
   "outputs": [
    {
     "data": {
      "text/plain": [
       "['../extdata/all-mias/mdb035.pgm',\n",
       " '../extdata/all-mias/mdb103.pgm',\n",
       " '../extdata/all-mias/mdb075.pgm',\n",
       " '../extdata/all-mias/mdb050.pgm',\n",
       " '../extdata/all-mias/mdb169.pgm']"
      ]
     },
     "execution_count": 5,
     "metadata": {},
     "output_type": "execute_result"
    }
   ],
   "source": [
    "paths = glob.glob(\"../extdata/all-mias/*.pgm\")\n",
    "paths[0:5]"
   ]
  },
  {
   "cell_type": "code",
   "execution_count": 143,
   "id": "537bbb78",
   "metadata": {},
   "outputs": [],
   "source": [
    "class MIAS:\n",
    "    def __init__(self, path):\n",
    "        self.path = path\n",
    "        self.ref = re.search(\"mdb[0-9]{3}\", path).group()\n",
    "        img = cv.imread(path, cv.IMREAD_REDUCED_GRAYSCALE_4)\n",
    "        self.img = cv.medianBlur(img, 3)\n",
    "\n",
    "    def plot(self):\n",
    "        plt.imshow(self.img, cmap='gray')\n",
    "        plt.show()\n",
    "\n",
    "    def __repr__(self):\n",
    "        self.plot()\n",
    "        return self.ref\n",
    "\n",
    "    def __print__(self):\n",
    "        return self.__repr__()\n",
    "\n",
    "    def __getitem__(self, index):\n",
    "        return self.img[index]\n",
    "\n",
    "    def __copy__(self):\n",
    "        return MIAS(self.path)\n",
    "    \n",
    "    def copy(self):\n",
    "        return copy.copy(self)"
   ]
  },
  {
   "cell_type": "code",
   "execution_count": 144,
   "id": "df6886b8",
   "metadata": {},
   "outputs": [],
   "source": [
    "class CleanBg():\n",
    "    def __init__(self, mdb, ksize=(5, 5)):\n",
    "        self.mdb = mdb\n",
    "        # Creación del kernel compuesto por un disco de radio 2\n",
    "        self.kernel = cv.getStructuringElement(cv.MORPH_ELLIPSE, ksize)\n",
    "        self.kernel[[1, 1, 3, 3], [0, 4, 0, 4]] = 0\n",
    "\n",
    "    # Obtener del umbral a partir del valor del nivel de gris en la imagen\n",
    "    def T(self):\n",
    "        hist = cv.calcHist([self.mdb.img], [0], None, histSize=[256],\n",
    "                           ranges=(0, 256), accumulate=False)\n",
    "        H_n = hist.astype(int).ravel()\n",
    "        T = 0.2 * np.sum(np.arange(0, 256) * H_n) / np.sum(H_n)\n",
    "        return np.uint8(T)\n",
    "\n",
    "    # Binarizar la imagen\n",
    "    def bin(self):\n",
    "        img_bin = self.mdb.img.copy()\n",
    "        T = self.T()\n",
    "        with np.nditer(img_bin, op_flags=['readwrite']) as it:\n",
    "            for x in it:\n",
    "                x[...] = 1 if x >= T else 0\n",
    "        return cv.morphologyEx(img_bin, cv.MORPH_OPEN, self.kernel)\n",
    "\n",
    "    # Obtener una imagen binarizada a partir de otra mostrando una región\n",
    "    # específica seleccionada\n",
    "    def get_region(self, region=('bg', 'fg')):\n",
    "        # Ejecutar un análisis de componentes conectadas para extraer los\n",
    "        # objetos de la imagen\n",
    "        img_bin = self.bin()\n",
    "        num_labs, labs, stats, centroids = \\\n",
    "            cv.connectedComponentsWithStats(img_bin, connectivity=4,\n",
    "                                            ltype=cv.CV_16U)\n",
    "        # Índices de todos los objetos encontrados\n",
    "        objects = np.arange(num_labs)\n",
    "        # Extraer el objeto más grande (con área mayor)\n",
    "        max_obj = np.argmax(stats[1::, 4]) + 1\n",
    "        # Extraer la imagen binarizada elegida\n",
    "        img_region = labs.copy().astype(np.uint8)\n",
    "        if region == 'fg':\n",
    "            with np.nditer(img_region, op_flags=['readwrite']) as it:\n",
    "                for x in it:\n",
    "                    x[...] = 1 if x == max_obj else 0\n",
    "            return img_region\n",
    "        elif region == 'bg':\n",
    "            # Extraer el fondo, incluyendo los objetos más pequeños\n",
    "            bg_obj = np.ma.array(objects, mask=False)\n",
    "            bg_obj.mask[max_obj] = True\n",
    "            bg_obj = bg_obj.compressed()\n",
    "            with np.nditer(img_region, op_flags=['readwrite']) as it:\n",
    "                for x in it:\n",
    "                    x[...] = 1 if x in bg_obj else 0\n",
    "            return img_region\n",
    "\n",
    "    # Limpiar el fondo de la imagen\n",
    "    def clean_bg(self):\n",
    "        img_bin = self.bin()\n",
    "        # Obtener la región que no pertenece a la región del busto\n",
    "        bg_region = self.get_region(region='bg')\n",
    "        # Modificar las intensidades que no pertenecen a la región del busto\n",
    "        img_clean = self.mdb.img.copy()\n",
    "        with np.nditer(bg_region, flags=['multi_index']) as it:\n",
    "            for x in it:\n",
    "                if x:\n",
    "                    img_clean[it.multi_index] = 0\n",
    "        mdb_clean = self.mdb.copy()\n",
    "        mdb_clean.img = img_clean\n",
    "        return mdb_clean"
   ]
  },
  {
   "cell_type": "code",
   "execution_count": 145,
   "id": "ddb7d5b8",
   "metadata": {},
   "outputs": [],
   "source": [
    "class CleanPM():\n",
    "    def __init__(self):\n",
    "        self.mdb_clean"
   ]
  },
  {
   "cell_type": "code",
   "execution_count": 146,
   "id": "9247a7d3",
   "metadata": {
    "tags": []
   },
   "outputs": [
    {
     "ename": "AttributeError",
     "evalue": "'MIAS' object has no attribute 'copy'",
     "output_type": "error",
     "traceback": [
      "\u001b[0;31m---------------------------------------------------------------------------\u001b[0m",
      "\u001b[0;31mAttributeError\u001b[0m                            Traceback (most recent call last)",
      "\u001b[0;32m<ipython-input-146-f32150e5e7e2>\u001b[0m in \u001b[0;36m<module>\u001b[0;34m\u001b[0m\n\u001b[1;32m      2\u001b[0m \u001b[0ma\u001b[0m \u001b[0;34m=\u001b[0m \u001b[0mCleanBg\u001b[0m\u001b[0;34m(\u001b[0m\u001b[0mex\u001b[0m\u001b[0;34m)\u001b[0m\u001b[0;34m\u001b[0m\u001b[0;34m\u001b[0m\u001b[0m\n\u001b[1;32m      3\u001b[0m \u001b[0;31m#plt.imshow(a.get_region(region='bg'), cmap='gray')\u001b[0m\u001b[0;34m\u001b[0m\u001b[0;34m\u001b[0m\u001b[0;34m\u001b[0m\u001b[0m\n\u001b[0;32m----> 4\u001b[0;31m \u001b[0ma\u001b[0m\u001b[0;34m.\u001b[0m\u001b[0mclean_bg\u001b[0m\u001b[0;34m(\u001b[0m\u001b[0;34m)\u001b[0m\u001b[0;34m\u001b[0m\u001b[0;34m\u001b[0m\u001b[0m\n\u001b[0m",
      "\u001b[0;32m<ipython-input-144-6dfb5ebfc2b3>\u001b[0m in \u001b[0;36mclean_bg\u001b[0;34m(self)\u001b[0m\n\u001b[1;32m     64\u001b[0m                 \u001b[0;32mif\u001b[0m \u001b[0mx\u001b[0m\u001b[0;34m:\u001b[0m\u001b[0;34m\u001b[0m\u001b[0;34m\u001b[0m\u001b[0m\n\u001b[1;32m     65\u001b[0m                     \u001b[0mimg_clean\u001b[0m\u001b[0;34m[\u001b[0m\u001b[0mit\u001b[0m\u001b[0;34m.\u001b[0m\u001b[0mmulti_index\u001b[0m\u001b[0;34m]\u001b[0m \u001b[0;34m=\u001b[0m \u001b[0;36m0\u001b[0m\u001b[0;34m\u001b[0m\u001b[0;34m\u001b[0m\u001b[0m\n\u001b[0;32m---> 66\u001b[0;31m         \u001b[0mmdb_clean\u001b[0m \u001b[0;34m=\u001b[0m \u001b[0mself\u001b[0m\u001b[0;34m.\u001b[0m\u001b[0mmdb\u001b[0m\u001b[0;34m.\u001b[0m\u001b[0mcopy\u001b[0m\u001b[0;34m(\u001b[0m\u001b[0;34m)\u001b[0m\u001b[0;34m\u001b[0m\u001b[0;34m\u001b[0m\u001b[0m\n\u001b[0m\u001b[1;32m     67\u001b[0m         \u001b[0mmdb_clean\u001b[0m\u001b[0;34m.\u001b[0m\u001b[0mimg\u001b[0m \u001b[0;34m=\u001b[0m \u001b[0mimg_clean\u001b[0m\u001b[0;34m\u001b[0m\u001b[0;34m\u001b[0m\u001b[0m\n\u001b[1;32m     68\u001b[0m         \u001b[0;32mreturn\u001b[0m \u001b[0mmdb_clean\u001b[0m\u001b[0;34m\u001b[0m\u001b[0;34m\u001b[0m\u001b[0m\n",
      "\u001b[0;31mAttributeError\u001b[0m: 'MIAS' object has no attribute 'copy'"
     ]
    }
   ],
   "source": [
    "ex = MIAS(paths[41])\n",
    "a = CleanBg(ex)\n",
    "#plt.imshow(a.get_region(region='bg'), cmap='gray')\n",
    "a.clean_bg()"
   ]
  },
  {
   "cell_type": "code",
   "execution_count": 140,
   "id": "cf59426e",
   "metadata": {},
   "outputs": [
    {
     "data": {
      "text/plain": [
       "('hola', 'hola')"
      ]
     },
     "execution_count": 140,
     "metadata": {},
     "output_type": "execute_result"
    }
   ],
   "source": [
    "a = ex.copy()\n",
    "a.ref = 'hola'\n",
    "a.ref, ex.ref"
   ]
  },
  {
   "cell_type": "markdown",
   "id": "20f9e392",
   "metadata": {},
   "source": []
  },
  {
   "cell_type": "markdown",
   "id": "04f43a15",
   "metadata": {},
   "source": []
  },
  {
   "cell_type": "markdown",
   "id": "74ea8df9",
   "metadata": {},
   "source": [
    "# Código antiguo"
   ]
  },
  {
   "cell_type": "code",
   "execution_count": null,
   "id": "36c38663",
   "metadata": {},
   "outputs": [],
   "source": [
    "# Bibliotecas a usar\n",
    "import os\n",
    "import re\n",
    "import cv2 as cv\n",
    "import numpy as np\n",
    "import matplotlib.pyplot as plt\n",
    "\n",
    "import pandas as pd\n",
    "\n",
    "from sklearn.decomposition import PCA\n",
    "\n",
    "from sklearn.model_selection import train_test_split\n",
    "from sklearn.model_selection import GridSearchCV\n",
    "from sklearn.ensemble import RandomForestClassifier\n",
    "from sklearn.svm import SVC\n",
    "from sklearn.metrics import classification_report\n",
    "from sklearn.metrics import confusion_matrix\n",
    "\n",
    "from sklearn.pipeline import make_pipeline\n",
    "\n",
    "from scipy.integrate import quad\n",
    "from scipy.special import beta\n",
    "from scipy.interpolate import CubicSpline"
   ]
  },
  {
   "cell_type": "code",
   "execution_count": null,
   "id": "4fd7244d",
   "metadata": {},
   "outputs": [],
   "source": [
    "# Obtener del umbral a partir del valor del nivel de gris en la imagen\n",
    "def c(img):\n",
    "    hist = cv.calcHist([img], [0], None, histSize=[256], ranges=(0, 256), accumulate=False).ravel()\n",
    "    return local_minimum(H_n)\n",
    "\n",
    "# Binarizar la imagen\n",
    "def binarization(img):\n",
    "    return np.where(img >= c(img), 1, 0).astype(np.uint8)"
   ]
  },
  {
   "cell_type": "code",
   "execution_count": null,
   "id": "3cb59737",
   "metadata": {},
   "outputs": [],
   "source": []
  },
  {
   "cell_type": "code",
   "execution_count": null,
   "id": "a0e7872b",
   "metadata": {},
   "outputs": [],
   "source": [
    "local_minimum(np.array([23, 1, 6, 5, 0]))"
   ]
  },
  {
   "cell_type": "code",
   "execution_count": null,
   "id": "20b26128",
   "metadata": {},
   "outputs": [],
   "source": [
    "?np.argmin"
   ]
  },
  {
   "cell_type": "markdown",
   "id": "9973ddaa",
   "metadata": {},
   "source": []
  },
  {
   "cell_type": "markdown",
   "id": "a014a833",
   "metadata": {},
   "source": []
  },
  {
   "cell_type": "markdown",
   "id": "bedc70af",
   "metadata": {},
   "source": []
  },
  {
   "cell_type": "markdown",
   "id": "d2251d0c",
   "metadata": {},
   "source": []
  },
  {
   "cell_type": "markdown",
   "id": "76a7de10",
   "metadata": {},
   "source": []
  },
  {
   "cell_type": "markdown",
   "id": "9bf3152d",
   "metadata": {},
   "source": []
  },
  {
   "cell_type": "code",
   "execution_count": null,
   "id": "75496d9d",
   "metadata": {},
   "outputs": [],
   "source": [
    "img_p = imgs_clean[41].copy().astype(float)\n",
    "img_p[0][46]"
   ]
  },
  {
   "cell_type": "code",
   "execution_count": null,
   "id": "85781c98",
   "metadata": {},
   "outputs": [],
   "source": [
    "img_p = imgs_clean[1].copy().astype(float)\n",
    "img_p *= 1/float(255)\n",
    "img_p = np.float32(img_p)\n",
    "\n",
    "# Hacemos una copia de la imagen limpia 51\n",
    "a = 5\n",
    "b = 4\n",
    "\n",
    "def BDF(t):\n",
    "    return (t ** (a - 1)) * ((1 - t) ** (b - 1))\n",
    "\n",
    "with np.nditer(img_p, op_flags=['readwrite']) as it:\n",
    "    for x in it:\n",
    "        x[...], _ = quad(BDF, 0, x) / beta(a, b)\n",
    "        \n",
    "plt.imshow(img_p, cmap='gray')"
   ]
  },
  {
   "cell_type": "code",
   "execution_count": null,
   "id": "e19ad87e",
   "metadata": {},
   "outputs": [],
   "source": [
    "m = np.count_nonzero(img_p)\n",
    "\n",
    "mu_k = (1 / m) * np.sum(img_p)\n",
    "mu_k"
   ]
  },
  {
   "cell_type": "code",
   "execution_count": null,
   "id": "b5de2ee6",
   "metadata": {
    "tags": []
   },
   "outputs": [],
   "source": [
    "edge = np.zeros(img_p.shape)\n",
    "coords = []\n",
    "\n",
    "for i, row in enumerate(img_p):\n",
    "    bina = np.where(np.logical_and(row < mu_k, row != 0), 0, 1)\n",
    "    first_pix = np.argmin(bina) if np.any(bina == 0) else np.inf\n",
    "    if first_pix < np.inf:\n",
    "        coord = (i, first_pix)\n",
    "        coords.append(coord)\n",
    "        edge[coord] = 1.0\n",
    "    \n",
    "plt.imshow(edge, cmap='gray')"
   ]
  },
  {
   "cell_type": "code",
   "execution_count": null,
   "id": "29185ed8",
   "metadata": {},
   "outputs": [],
   "source": [
    "CubicSpline(edge[])"
   ]
  },
  {
   "cell_type": "markdown",
   "id": "6e535a63",
   "metadata": {},
   "source": []
  }
 ],
 "metadata": {
  "kernelspec": {
   "display_name": "Python 3",
   "language": "python",
   "name": "python3"
  },
  "language_info": {
   "codemirror_mode": {
    "name": "ipython",
    "version": 3
   },
   "file_extension": ".py",
   "mimetype": "text/x-python",
   "name": "python",
   "nbconvert_exporter": "python",
   "pygments_lexer": "ipython3",
   "version": "3.6.13"
  }
 },
 "nbformat": 4,
 "nbformat_minor": 5
}
