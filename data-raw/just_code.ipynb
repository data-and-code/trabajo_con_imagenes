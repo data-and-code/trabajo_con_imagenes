{
 "cells": [
  {
   "cell_type": "markdown",
   "id": "5761b68f",
   "metadata": {},
   "source": [
    "# Nuevo código"
   ]
  },
  {
   "cell_type": "code",
   "execution_count": 1,
   "id": "c527573e",
   "metadata": {},
   "outputs": [],
   "source": [
    "# Bibliotecas a usar\n",
    "import glob\n",
    "import re\n",
    "import copy\n",
    "import numpy as np\n",
    "import matplotlib.pyplot as plt\n",
    "import pandas as pd\n",
    "import cv2 as cv\n",
    "from scipy.integrate import quad\n",
    "from scipy.special import beta"
   ]
  },
  {
   "cell_type": "code",
   "execution_count": 2,
   "id": "58bb6362",
   "metadata": {},
   "outputs": [
    {
     "data": {
      "text/plain": [
       "['../extdata/all-mias/mdb035.pgm',\n",
       " '../extdata/all-mias/mdb103.pgm',\n",
       " '../extdata/all-mias/mdb075.pgm',\n",
       " '../extdata/all-mias/mdb050.pgm',\n",
       " '../extdata/all-mias/mdb169.pgm']"
      ]
     },
     "execution_count": 2,
     "metadata": {},
     "output_type": "execute_result"
    }
   ],
   "source": [
    "paths = glob.glob(\"../extdata/all-mias/*.pgm\")\n",
    "paths[0:5]"
   ]
  },
  {
   "cell_type": "code",
   "execution_count": 3,
   "id": "442a94c7",
   "metadata": {},
   "outputs": [],
   "source": [
    "class MIAS:\n",
    "    def __init__(self, path):\n",
    "        self.path = path\n",
    "        self.ref = re.search(\"mdb[0-9]{3}\", path).group()\n",
    "        img = cv.imread(path, cv.IMREAD_REDUCED_GRAYSCALE_4)\n",
    "        self.img = cv.medianBlur(img, 3)\n",
    "\n",
    "    def plot(self):\n",
    "        plt.imshow(self.img, cmap='gray')\n",
    "        plt.show()\n",
    "\n",
    "    def __repr__(self):\n",
    "        self.plot()\n",
    "        return self.ref\n",
    "\n",
    "    def __print__(self):\n",
    "        return self.__repr__()\n",
    "\n",
    "    def __getitem__(self, index):\n",
    "        return self.img[index]\n",
    "\n",
    "    def __copy__(self):\n",
    "        cp = MIAS(self.path)\n",
    "        cp.img = self.img\n",
    "        return cp\n",
    "\n",
    "    def copy(self):\n",
    "        return copy.copy(self)"
   ]
  },
  {
   "cell_type": "markdown",
   "id": "7dd8969c",
   "metadata": {},
   "source": [
    "# Tarea 1"
   ]
  },
  {
   "cell_type": "code",
   "execution_count": 4,
   "id": "abc1993d",
   "metadata": {},
   "outputs": [],
   "source": [
    "class CleanBg():\n",
    "    def __init__(self, mdb, ksize=(5, 5)):\n",
    "        self.mdb = mdb\n",
    "        # Creación del kernel compuesto por un disco de radio 2\n",
    "        self.kernel = cv.getStructuringElement(cv.MORPH_ELLIPSE, ksize)\n",
    "        self.kernel[[1, 1, 3, 3], [0, 4, 0, 4]] = 0\n",
    "\n",
    "    # Obtener del umbral a partir del valor del nivel de gris en la imagen\n",
    "    def T(self):\n",
    "        hist = cv.calcHist([self.mdb.img], [0], None, histSize=[256],\n",
    "                           ranges=(0, 256), accumulate=False)\n",
    "        H_n = hist.astype(int).ravel()\n",
    "        T = 0.2 * np.sum(np.arange(0, 256) * H_n) / np.sum(H_n)\n",
    "        return np.uint8(T)\n",
    "\n",
    "    # Binarizar la imagen\n",
    "    def bin(self):\n",
    "        img_bin = self.mdb.img.copy()\n",
    "        T = self.T()\n",
    "        with np.nditer(img_bin, op_flags=['readwrite']) as it:\n",
    "            for x in it:\n",
    "                x[...] = 1 if x >= T else 0\n",
    "        return cv.morphologyEx(img_bin, cv.MORPH_OPEN, self.kernel)\n",
    "\n",
    "    # Obtener una imagen binarizada a partir de otra mostrando una región\n",
    "    # específica seleccionada\n",
    "    def get_bg_region(self):\n",
    "        # Ejecutar un análisis de componentes conectadas para extraer los\n",
    "        # objetos de la imagen\n",
    "        img_bin = self.bin()\n",
    "        num_labs, labs, stats, centroids = \\\n",
    "            cv.connectedComponentsWithStats(img_bin, connectivity=4,\n",
    "                                            ltype=cv.CV_16U)\n",
    "        # Índices de todos los objetos encontrados\n",
    "        objects = np.arange(num_labs)\n",
    "        # Extraer el objeto más grande (con área mayor)\n",
    "        max_obj = np.argmax(stats[1::, 4]) + 1\n",
    "        # Extraer la imagen binarizada del fondo\n",
    "        img_region = labs.copy().astype(np.uint8)\n",
    "        # Extraer el fondo, incluyendo los objetos más pequeños\n",
    "        bg_obj = np.ma.array(objects, mask=False)\n",
    "        bg_obj.mask[max_obj] = True\n",
    "        bg_obj = bg_obj.compressed()\n",
    "        with np.nditer(img_region, op_flags=['readwrite']) as it:\n",
    "            for x in it:\n",
    "                x[...] = 1 if x in bg_obj else 0\n",
    "        return img_region\n",
    "\n",
    "    # Limpiar el fondo de la imagen\n",
    "    def clean_bg(self):\n",
    "        img_bin = self.bin()\n",
    "        # Obtener la región que no pertenece a la región del busto\n",
    "        bg_region = self.get_bg_region()\n",
    "        # Modificar las intensidades que no pertenecen a la región del busto\n",
    "        img_clean = self.mdb.img.copy()\n",
    "        with np.nditer(bg_region, flags=['multi_index']) as it:\n",
    "            for x in it:\n",
    "                if x:\n",
    "                    img_clean[it.multi_index] = 0\n",
    "        mdb_clean = self.mdb.copy()\n",
    "        mdb_clean.img = img_clean\n",
    "        return mdb_clean"
   ]
  },
  {
   "cell_type": "markdown",
   "id": "c6c5d950",
   "metadata": {},
   "source": [
    "# Tarea 2"
   ]
  },
  {
   "cell_type": "code",
   "execution_count": 34,
   "id": "47f4a217",
   "metadata": {},
   "outputs": [],
   "source": [
    "class CleanPM():\n",
    "    def __init__(self, mdb, ksize=(5, 5)):\n",
    "        self.mdb = mdb.copy()\n",
    "        # Creación del kernel compuesto por un disco de radio 2\n",
    "        self.kernel = cv.getStructuringElement(cv.MORPH_ELLIPSE, ksize)\n",
    "        self.kernel[[1, 1, 3, 3], [0, 4, 0, 4]] = 0\n",
    "\n",
    "    def get_pm_region(self, fg_bin):\n",
    "        num_labs, labs, stats, centroids = \\\n",
    "            cv.connectedComponentsWithStats(fg_bin, connectivity=4,\n",
    "                                                ltype=cv.CV_16U)\n",
    "        pm_region = self.mdb.img.copy()\n",
    "        try:\n",
    "            pm_ind = np.argmin(stats[1::, 1]) + 1\n",
    "        except:\n",
    "            return pm_region, False\n",
    "        with np.nditer(labs, flags=['multi_index']) as it:\n",
    "            for x in it:\n",
    "                if x != pm_ind:\n",
    "                    pm_region[it.multi_index] = 0\n",
    "        return pm_region, True\n",
    "\n",
    "    def clean_pm(self):\n",
    "        last_thresh = -np.inf\n",
    "        thresh, img_bin = cv.threshold(self.mdb.img, 0, 255, cv.THRESH_BINARY + cv.THRESH_OTSU)\n",
    "        while last_thresh != thresh:\n",
    "            img_bin = cv.morphologyEx(img_bin, cv.MORPH_OPEN, self.kernel)\n",
    "            # Calcular el promedio del primer plano\n",
    "            fg = np.ma.array(self.mdb.img, mask=False)\n",
    "            fg.mask = np.where(img_bin == 255, False, True)\n",
    "            mu_1 = fg.mean()\n",
    "            # Filtrar la región del primer plano usando el promedio\n",
    "            fg_bin = np.zeros(self.mdb.img.shape, self.mdb.img.dtype)\n",
    "            with np.nditer(self.mdb.img, flags=['multi_index']) as it:\n",
    "                for x in it:\n",
    "                    if x > mu_1:\n",
    "                        fg[it.multi_index] = x\n",
    "                        fg_bin[it.multi_index] = 255\n",
    "            # Filtrar la región del músculo pectoral\n",
    "            pm_region, pm_exists = self.get_pm_region(fg_bin)\n",
    "            if not(pm_exists):\n",
    "                break\n",
    "            # Actualizar los umbrales\n",
    "            last_thresh = thresh\n",
    "            thresh, img_bin = cv.threshold(pm_region, 0, 255,\n",
    "                                           cv.THRESH_BINARY + cv.THRESH_OTSU)\n",
    "        # Modificar las intensidades que pertenecen a la región del músculo pectoral\n",
    "        img_clean = self.mdb.img.copy()\n",
    "        with np.nditer(img_bin, flags=['multi_index']) as it:\n",
    "            for x in it:\n",
    "                if x == 255:\n",
    "                    img_clean[it.multi_index] = 0\n",
    "        mdb_clean = self.mdb.copy()\n",
    "        mdb_clean.img = img_clean\n",
    "        return mdb_clean"
   ]
  },
  {
   "cell_type": "markdown",
   "id": "5af042af",
   "metadata": {},
   "source": [
    " # Ejecutar Tarea 1 y 2"
   ]
  },
  {
   "cell_type": "code",
   "execution_count": 35,
   "id": "31ff07be",
   "metadata": {},
   "outputs": [],
   "source": [
    "class CleanMIAS():\n",
    "    def __init__(self, path):\n",
    "        self.mdb = MIAS(path)\n",
    "\n",
    "    def clean_img(self):\n",
    "        mdb_clean = CleanBg(self.mdb).clean_bg()\n",
    "        return CleanPM(mdb_clean).clean_pm()"
   ]
  },
  {
   "cell_type": "code",
   "execution_count": 37,
   "id": "571439fb",
   "metadata": {},
   "outputs": [
    {
     "name": "stdout",
     "output_type": "stream",
     "text": [
      "0\n",
      "10\n",
      "20\n",
      "30\n",
      "40\n",
      "50\n",
      "60\n",
      "70\n",
      "80\n",
      "90\n",
      "100\n",
      "110\n",
      "120\n",
      "130\n",
      "140\n",
      "150\n",
      "160\n",
      "170\n",
      "180\n",
      "190\n",
      "200\n",
      "210\n",
      "220\n",
      "230\n",
      "240\n",
      "250\n",
      "260\n",
      "270\n",
      "280\n",
      "290\n",
      "300\n",
      "310\n",
      "320\n"
     ]
    }
   ],
   "source": [
    "mdb_clean = []\n",
    "\n",
    "for i, path in enumerate(paths):\n",
    "    if i % 10 == 0:\n",
    "        print(i)\n",
    "    mdb_clean.append(CleanMIAS(path).clean_img())"
   ]
  },
  {
   "cell_type": "code",
   "execution_count": 44,
   "id": "3cb9ca74",
   "metadata": {},
   "outputs": [
    {
     "data": {
      "image/png": "[encoded data removed]",
      "text/plain": [
       "<Figure size 432x288 with 1 Axes>"
      ]
     },
     "metadata": {
      "needs_background": "light"
     },
     "output_type": "display_data"
    },
    {
     "data": {
      "text/plain": [
       "mdb028"
      ]
     },
     "execution_count": 44,
     "metadata": {},
     "output_type": "execute_result"
    }
   ],
   "source": [
    "mdb_clean[50]"
   ]
  },
  {
   "cell_type": "markdown",
   "id": "4f4ebdb7",
   "metadata": {},
   "source": [
    "# Tarea 3"
   ]
  },
  {
   "cell_type": "code",
   "execution_count": 414,
   "id": "8d0ceaa1",
   "metadata": {},
   "outputs": [
    {
     "data": {
      "text/html": [
       "<div>\n",
       "<style scoped>\n",
       "    .dataframe tbody tr th:only-of-type {\n",
       "        vertical-align: middle;\n",
       "    }\n",
       "\n",
       "    .dataframe tbody tr th {\n",
       "        vertical-align: top;\n",
       "    }\n",
       "\n",
       "    .dataframe thead th {\n",
       "        text-align: right;\n",
       "    }\n",
       "</style>\n",
       "<table border=\"1\" class=\"dataframe\">\n",
       "  <thead>\n",
       "    <tr style=\"text-align: right;\">\n",
       "      <th></th>\n",
       "      <th>ref</th>\n",
       "      <th>bg_tissue</th>\n",
       "      <th>abnorm</th>\n",
       "      <th>severity</th>\n",
       "      <th>x</th>\n",
       "      <th>y</th>\n",
       "      <th>approx_radius</th>\n",
       "    </tr>\n",
       "  </thead>\n",
       "  <tbody>\n",
       "    <tr>\n",
       "      <th>0</th>\n",
       "      <td>mdb001</td>\n",
       "      <td>G</td>\n",
       "      <td>CIRC</td>\n",
       "      <td>B</td>\n",
       "      <td>535.0</td>\n",
       "      <td>425.0</td>\n",
       "      <td>197.0</td>\n",
       "    </tr>\n",
       "    <tr>\n",
       "      <th>1</th>\n",
       "      <td>mdb002</td>\n",
       "      <td>G</td>\n",
       "      <td>CIRC</td>\n",
       "      <td>B</td>\n",
       "      <td>522.0</td>\n",
       "      <td>280.0</td>\n",
       "      <td>69.0</td>\n",
       "    </tr>\n",
       "    <tr>\n",
       "      <th>2</th>\n",
       "      <td>mdb003</td>\n",
       "      <td>D</td>\n",
       "      <td>NORM</td>\n",
       "      <td>NaN</td>\n",
       "      <td>NaN</td>\n",
       "      <td>NaN</td>\n",
       "      <td>NaN</td>\n",
       "    </tr>\n",
       "    <tr>\n",
       "      <th>3</th>\n",
       "      <td>mdb004</td>\n",
       "      <td>D</td>\n",
       "      <td>NORM</td>\n",
       "      <td>NaN</td>\n",
       "      <td>NaN</td>\n",
       "      <td>NaN</td>\n",
       "      <td>NaN</td>\n",
       "    </tr>\n",
       "    <tr>\n",
       "      <th>4</th>\n",
       "      <td>mdb005</td>\n",
       "      <td>F</td>\n",
       "      <td>CIRC</td>\n",
       "      <td>B</td>\n",
       "      <td>477.0</td>\n",
       "      <td>133.0</td>\n",
       "      <td>30.0</td>\n",
       "    </tr>\n",
       "    <tr>\n",
       "      <th>...</th>\n",
       "      <td>...</td>\n",
       "      <td>...</td>\n",
       "      <td>...</td>\n",
       "      <td>...</td>\n",
       "      <td>...</td>\n",
       "      <td>...</td>\n",
       "      <td>...</td>\n",
       "    </tr>\n",
       "    <tr>\n",
       "      <th>325</th>\n",
       "      <td>mdb318</td>\n",
       "      <td>D</td>\n",
       "      <td>NORM</td>\n",
       "      <td>NaN</td>\n",
       "      <td>NaN</td>\n",
       "      <td>NaN</td>\n",
       "      <td>NaN</td>\n",
       "    </tr>\n",
       "    <tr>\n",
       "      <th>326</th>\n",
       "      <td>mdb319</td>\n",
       "      <td>D</td>\n",
       "      <td>NORM</td>\n",
       "      <td>NaN</td>\n",
       "      <td>NaN</td>\n",
       "      <td>NaN</td>\n",
       "      <td>NaN</td>\n",
       "    </tr>\n",
       "    <tr>\n",
       "      <th>327</th>\n",
       "      <td>mdb320</td>\n",
       "      <td>D</td>\n",
       "      <td>NORM</td>\n",
       "      <td>NaN</td>\n",
       "      <td>NaN</td>\n",
       "      <td>NaN</td>\n",
       "      <td>NaN</td>\n",
       "    </tr>\n",
       "    <tr>\n",
       "      <th>328</th>\n",
       "      <td>mdb321</td>\n",
       "      <td>D</td>\n",
       "      <td>NORM</td>\n",
       "      <td>NaN</td>\n",
       "      <td>NaN</td>\n",
       "      <td>NaN</td>\n",
       "      <td>NaN</td>\n",
       "    </tr>\n",
       "    <tr>\n",
       "      <th>329</th>\n",
       "      <td>mdb322</td>\n",
       "      <td>D</td>\n",
       "      <td>NORM</td>\n",
       "      <td>NaN</td>\n",
       "      <td>NaN</td>\n",
       "      <td>NaN</td>\n",
       "      <td>NaN</td>\n",
       "    </tr>\n",
       "  </tbody>\n",
       "</table>\n",
       "<p>330 rows × 7 columns</p>\n",
       "</div>"
      ],
      "text/plain": [
       "        ref bg_tissue abnorm severity      x      y  approx_radius\n",
       "0    mdb001         G   CIRC        B  535.0  425.0          197.0\n",
       "1    mdb002         G   CIRC        B  522.0  280.0           69.0\n",
       "2    mdb003         D   NORM      NaN    NaN    NaN            NaN\n",
       "3    mdb004         D   NORM      NaN    NaN    NaN            NaN\n",
       "4    mdb005         F   CIRC        B  477.0  133.0           30.0\n",
       "..      ...       ...    ...      ...    ...    ...            ...\n",
       "325  mdb318         D   NORM      NaN    NaN    NaN            NaN\n",
       "326  mdb319         D   NORM      NaN    NaN    NaN            NaN\n",
       "327  mdb320         D   NORM      NaN    NaN    NaN            NaN\n",
       "328  mdb321         D   NORM      NaN    NaN    NaN            NaN\n",
       "329  mdb322         D   NORM      NaN    NaN    NaN            NaN\n",
       "\n",
       "[330 rows x 7 columns]"
      ]
     },
     "execution_count": 414,
     "metadata": {},
     "output_type": "execute_result"
    }
   ],
   "source": [
    "with open('../extdata/all-mias/info.csv') as file:\n",
    "    info = pd.read_csv(file)\n",
    "    \n",
    "info"
   ]
  },
  {
   "cell_type": "code",
   "execution_count": null,
   "id": "a66e9392",
   "metadata": {},
   "outputs": [],
   "source": [
    "bg_tissue = info[['ref', 'bg_tissue']].drop_duplicates(ignore_index=True)"
   ]
  },
  {
   "cell_type": "code",
   "execution_count": null,
   "id": "42e34e6c",
   "metadata": {},
   "outputs": [],
   "source": [
    "imgs_clean = []\n",
    "\n",
    "for mdb in mdb_clean:\n",
    "    imgs_clean.append(mdb.img)"
   ]
  },
  {
   "cell_type": "code",
   "execution_count": null,
   "id": "c872a134",
   "metadata": {},
   "outputs": [],
   "source": [
    "X = np.reshape(imgs_clean_2, (322, 256*256))\n",
    "y = bg_tissue['bg_tissue'].values.reshape(-1)\n",
    "print(X.shape, y.shape)"
   ]
  },
  {
   "cell_type": "markdown",
   "id": "6099bc31",
   "metadata": {},
   "source": [
    "# Código antiguo"
   ]
  },
  {
   "cell_type": "code",
   "execution_count": null,
   "id": "9e00b663",
   "metadata": {},
   "outputs": [],
   "source": [
    "# Bibliotecas a usar\n",
    "import os\n",
    "import re\n",
    "import cv2 as cv\n",
    "import numpy as np\n",
    "import matplotlib.pyplot as plt\n",
    "\n",
    "import pandas as pd\n",
    "\n",
    "from sklearn.decomposition import PCA\n",
    "\n",
    "from sklearn.model_selection import train_test_split\n",
    "from sklearn.model_selection import GridSearchCV\n",
    "from sklearn.ensemble import RandomForestClassifier\n",
    "from sklearn.svm import SVC\n",
    "from sklearn.metrics import classification_report\n",
    "from sklearn.metrics import confusion_matrix\n",
    "\n",
    "from sklearn.pipeline import make_pipeline\n",
    "\n",
    "from scipy.integrate import quad\n",
    "from scipy.special import beta\n",
    "from scipy.interpolate import CubicSpline"
   ]
  },
  {
   "cell_type": "code",
   "execution_count": null,
   "id": "14338a0b",
   "metadata": {},
   "outputs": [],
   "source": [
    "# Obtener del umbral a partir del valor del nivel de gris en la imagen\n",
    "def c(img):\n",
    "    hist = cv.calcHist([img], [0], None, histSize=[256], ranges=(0, 256), accumulate=False).ravel()\n",
    "    return local_minimum(H_n)\n",
    "\n",
    "# Binarizar la imagen\n",
    "def binarization(img):\n",
    "    return np.where(img >= c(img), 1, 0).astype(np.uint8)"
   ]
  },
  {
   "cell_type": "code",
   "execution_count": null,
   "id": "04d7259a",
   "metadata": {},
   "outputs": [],
   "source": []
  },
  {
   "cell_type": "code",
   "execution_count": null,
   "id": "8873fafd",
   "metadata": {},
   "outputs": [],
   "source": [
    "local_minimum(np.array([23, 1, 6, 5, 0]))"
   ]
  },
  {
   "cell_type": "code",
   "execution_count": null,
   "id": "01b2feca",
   "metadata": {},
   "outputs": [],
   "source": [
    "?np.argmin"
   ]
  },
  {
   "cell_type": "markdown",
   "id": "3d3c4642",
   "metadata": {},
   "source": []
  },
  {
   "cell_type": "markdown",
   "id": "77fc245e",
   "metadata": {},
   "source": []
  },
  {
   "cell_type": "markdown",
   "id": "3374b59b",
   "metadata": {},
   "source": []
  },
  {
   "cell_type": "markdown",
   "id": "9afff6bd",
   "metadata": {},
   "source": []
  },
  {
   "cell_type": "markdown",
   "id": "9c7c59a8",
   "metadata": {},
   "source": []
  },
  {
   "cell_type": "markdown",
   "id": "b49a78ec",
   "metadata": {},
   "source": []
  },
  {
   "cell_type": "code",
   "execution_count": null,
   "id": "d2edbd52",
   "metadata": {},
   "outputs": [],
   "source": [
    "img_p = imgs_clean[41].copy().astype(float)\n",
    "img_p[0][46]"
   ]
  },
  {
   "cell_type": "code",
   "execution_count": null,
   "id": "6b335ce2",
   "metadata": {},
   "outputs": [],
   "source": [
    "img_p = imgs_clean[1].copy().astype(float)\n",
    "img_p *= 1/float(255)\n",
    "img_p = np.float32(img_p)\n",
    "\n",
    "# Hacemos una copia de la imagen limpia 51\n",
    "a = 5\n",
    "b = 4\n",
    "\n",
    "def BDF(t):\n",
    "    return (t ** (a - 1)) * ((1 - t) ** (b - 1))\n",
    "\n",
    "with np.nditer(img_p, op_flags=['readwrite']) as it:\n",
    "    for x in it:\n",
    "        x[...], _ = quad(BDF, 0, x) / beta(a, b)\n",
    "        \n",
    "plt.imshow(img_p, cmap='gray')"
   ]
  },
  {
   "cell_type": "code",
   "execution_count": null,
   "id": "0b731a33",
   "metadata": {},
   "outputs": [],
   "source": [
    "m = np.count_nonzero(img_p)\n",
    "\n",
    "mu_k = (1 / m) * np.sum(img_p)\n",
    "mu_k"
   ]
  },
  {
   "cell_type": "code",
   "execution_count": null,
   "id": "3567010b",
   "metadata": {
    "tags": []
   },
   "outputs": [],
   "source": [
    "edge = np.zeros(img_p.shape)\n",
    "coords = []\n",
    "\n",
    "for i, row in enumerate(img_p):\n",
    "    bina = np.where(np.logical_and(row < mu_k, row != 0), 0, 1)\n",
    "    first_pix = np.argmin(bina) if np.any(bina == 0) else np.inf\n",
    "    if first_pix < np.inf:\n",
    "        coord = (i, first_pix)\n",
    "        coords.append(coord)\n",
    "        edge[coord] = 1.0\n",
    "    \n",
    "plt.imshow(edge, cmap='gray')"
   ]
  },
  {
   "cell_type": "code",
   "execution_count": null,
   "id": "c3668710",
   "metadata": {},
   "outputs": [],
   "source": [
    "CubicSpline(edge[])"
   ]
  },
  {
   "cell_type": "markdown",
   "id": "1323001c",
   "metadata": {},
   "source": []
  }
 ],
 "metadata": {
  "kernelspec": {
   "display_name": "Python 3",
   "language": "python",
   "name": "python3"
  },
  "language_info": {
   "codemirror_mode": {
    "name": "ipython",
    "version": 3
   },
   "file_extension": ".py",
   "mimetype": "text/x-python",
   "name": "python",
   "nbconvert_exporter": "python",
   "pygments_lexer": "ipython3",
   "version": "3.6.13"
  }
 },
 "nbformat": 4,
 "nbformat_minor": 5
}
